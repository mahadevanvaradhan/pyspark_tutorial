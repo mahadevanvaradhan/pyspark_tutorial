{
 "cells": [
  {
   "cell_type": "markdown",
   "metadata": {},
   "source": [
    "# 1) Multiple features of one input"
   ]
  },
  {
   "cell_type": "markdown",
   "metadata": {},
   "source": [
    "## 1) Polynomial regression"
   ]
  },
  {
   "cell_type": "markdown",
   "metadata": {},
   "source": [
    "Instead of using simple linear regression model, you could consider even higher order polynomials."
   ]
  },
  {
   "cell_type": "markdown",
   "metadata": {},
   "source": [
    "<img src=\"images/lec2_pic01.png\">\n",
    "<img src=\"images/lec2_pic02.png\">\n",
    "<img src=\"images/lec2_pic03.png\">\n",
    "<img src=\"images/lec2_pic04.png\">\n",
    "\n",
    "*Screenshot taken from [Coursera](https://www.coursera.org/learn/ml-regression/lecture/hMhl1/polynomial-regression) 1:00*\n",
    "\n",
    "<!--TEASER_END-->"
   ]
  },
  {
   "cell_type": "markdown",
   "metadata": {},
   "source": [
    "So here's our generic polynomial regression model, where we take our observation, $y_i$, and model it as this polynomial in terms of, for example, square feet of our house, which is just some input x. And then we assume that there's some error, epsilon i. So that's the error associated with the ith observation.\n",
    "\n",
    "And what we see is that in this model, in contrast to our simple linear regression model, we have all these powers of x\n",
    "that are now appearing in the model. And what we can do, is we can treat these different powers of x as features. \n",
    "- feature 1 = 1 (constant)\n",
    "- feature 2 = x\n",
    "- feature 3 = $x^2$\n",
    "\n",
    "And associated with each one of these features in our model is a parameter. So we have some p+1 parameters, $w_0$, which is just the intercept term. All the way up to wp, the coefficient associated with pth power of our input."
   ]
  },
  {
   "cell_type": "markdown",
   "metadata": {},
   "source": [
    "<img src=\"images/lec2_pic05.png\">\n",
    "\n",
    "*Screenshot taken from [Coursera](https://www.coursera.org/learn/ml-regression/lecture/hMhl1/polynomial-regression) 3:37*\n",
    "\n",
    "<!--TEASER_END-->"
   ]
  },
  {
   "cell_type": "markdown",
   "metadata": {},
   "source": [
    "## 2) Modeling seasonality"
   ]
  },
  {
   "cell_type": "markdown",
   "metadata": {},
   "source": [
    "Let's just go through one application in detrending time series."
   ]
  },
  {
   "cell_type": "markdown",
   "metadata": {},
   "source": [
    "<img src=\"images/lec2_pic06.png\">\n",
    "<img src=\"images/lec2_pic07.png\">\n",
    "<img src=\"images/lec2_pic08.png\">\n",
    "\n",
    "*Screenshot taken from [Coursera](https://www.coursera.org/learn/ml-regression/lecture/hFRqn/modeling-seasonality) 2:00*\n",
    "\n",
    "<!--TEASER_END-->"
   ]
  },
  {
   "cell_type": "markdown",
   "metadata": {},
   "source": [
    "**Let's write down the model for this application**"
   ]
  },
  {
   "cell_type": "markdown",
   "metadata": {},
   "source": [
    "<img src=\"images/lec2_pic09.png\">\n",
    "<img src=\"images/lec2_pic10.png\">\n",
    "\n",
    "*Screenshot taken from [Coursera](https://www.coursera.org/learn/ml-regression/lecture/hFRqn/modeling-seasonality) 7:00*\n",
    "\n",
    "<!--TEASER_END-->"
   ]
  },
  {
   "cell_type": "markdown",
   "metadata": {},
   "source": [
    "**Let's apply this model to our housing data**"
   ]
  },
  {
   "cell_type": "markdown",
   "metadata": {},
   "source": [
    "<img src=\"images/lec2_pic11.png\">\n",
    "<img src=\"images/lec2_pic12.png\">\n",
    "\n",
    "*Screenshot taken from [Coursera](https://www.coursera.org/learn/ml-regression/lecture/hFRqn/modeling-seasonality) 8:00*\n",
    "\n",
    "<!--TEASER_END-->"
   ]
  },
  {
   "cell_type": "markdown",
   "metadata": {},
   "source": [
    "## 3) Where we see seasonality"
   ]
  },
  {
   "cell_type": "markdown",
   "metadata": {},
   "source": [
    "So we keep talking about this housing application. And it's really a nice intuitive way to describe the different methods in regression that we're gonna be talking about.\n",
    "\n",
    "But regression, like we've mentioned, is much, much, much more widely applicable. And this notation of capturing seasonality also appears in lots of applications beyond just housing. And so I wanted to spend a little time talking about other places where we see this seasonality or seasonal effects coming into play."
   ]
  },
  {
   "cell_type": "markdown",
   "metadata": {},
   "source": [
    "<img src=\"images/lec2_pic13.png\">\n",
    "\n",
    "*Screenshot taken from [Coursera](https://www.coursera.org/learn/ml-regression/lecture/SHy67/where-we-see-seasonality) 1:40*\n",
    "\n",
    "<!--TEASER_END-->"
   ]
  },
  {
   "cell_type": "markdown",
   "metadata": {},
   "source": [
    "## 4) Regression with general features of 1 input"
   ]
  },
  {
   "cell_type": "markdown",
   "metadata": {},
   "source": [
    "So we talked about polynomial regression, where you have different powers of your input. And we also talked about seasonality where you have these sine and cosine bases. But we can really think about any function of our single input. So let's write down our model a little bit more generically in terms of some set of features.\n",
    "\n",
    "And I'm gonna denote each one of my features with this function h.\n",
    "- $h_0$: first feature\n",
    "- $h_1$: second feature\n",
    "- $h_D$: last feature\n",
    "\n",
    "So we can more compactly represent this model using the sigma notation that we introduced previously.\n"
   ]
  },
  {
   "cell_type": "markdown",
   "metadata": {},
   "source": [
    "<img src=\"images/lec2_pic14.png\">\n",
    "<img src=\"images/lec2_pic15.png\">\n",
    "\n",
    "*Screenshot taken from [Coursera](https://www.coursera.org/learn/ml-regression/lecture/SHy67/where-we-see-seasonality) 1:33*\n",
    "\n",
    "<!--TEASER_END-->"
   ]
  },
  {
   "cell_type": "markdown",
   "metadata": {},
   "source": [
    "So, going back to our regression flow chart or block diagram here, we kinda swept something under the rug before. We never really highlighted this blue feature extraction box, and we just said the output of it was x. Really, now that we've learned a little bit more about regression and this notion of features, really the output of this feature extraction is not x but h(x). It's our features of our input x. So x is really the input to our feature extractor, and the output is some set of functions of x. So for the remainder of this course, we're gonna assume that the output of this feature extraction box is h of x."
   ]
  },
  {
   "cell_type": "markdown",
   "metadata": {},
   "source": [
    "<img src=\"images/lec2_pic16.png\">\n",
    "\n",
    "*Screenshot taken from [Coursera](https://www.coursera.org/learn/ml-regression/lecture/SHy67/where-we-see-seasonality) 2:22*\n",
    "\n",
    "<!--TEASER_END-->"
   ]
  },
  {
   "cell_type": "markdown",
   "metadata": {
    "collapsed": true
   },
   "source": [
    "# 2) Incorporating multiple inputs"
   ]
  },
  {
   "cell_type": "markdown",
   "metadata": {},
   "source": [
    "## 1) Motivating the use of multiple inputs"
   ]
  },
  {
   "cell_type": "markdown",
   "metadata": {},
   "source": [
    "Well, up to this point in this course we've assumed that we just have a single input, like square feet, and we're trying to use that to predict the output, like the value of the house. But often we have lots of different attributes, different inputs, that we might wanna use for this task of predicting some output.\n",
    "\n",
    "So what we're saying is that we need to add more input to our regression model.\n"
   ]
  },
  {
   "cell_type": "markdown",
   "metadata": {},
   "source": [
    "<img src=\"images/lec2_pic17.png\">\n",
    "<img src=\"images/lec2_pic18.png\">\n",
    "\n",
    "*Screenshot taken from [Coursera](https://www.coursera.org/learn/ml-regression/lecture/hO8AO/motivating-the-use-of-multiple-inputs) 1:45*\n",
    "\n",
    "<!--TEASER_END-->"
   ]
  },
  {
   "cell_type": "markdown",
   "metadata": {},
   "source": [
    "Like we mentioned at the beginning of this module, there are lots and lots of applications that use this idea of multiple regression. And I'm just gonna talk through one that I think is really cool, and that's **reading your mind**. \n",
    "\n",
    "So, you get some brain scan, maybe it's MEG or FMRI, but the point is that there's some recording of your brain activity and in this case it's going to be in response to seeing some word or some image or something like this and what we get out is an image of your brain. \n",
    "\n",
    "And this brain is divided into what are called voxels, you can think of them as pixels but they're these little volumetric regions where we have intensities associated with each one of those different voxels and we're going to use these\n",
    "intensities as our multiple inputs. So these are going to be the different features that are going into our model to predict whether you felt very sad or very happy, in response to whatever you were shown. So we're going to have some data where people were shown an image and they respond on the scale about whether they were very sad or very happy and there is some scale in which they respond to this question. And so what we have are these pairs of brain images and happiness responses.\n",
    "\n",
    "So the happiness responses are output, the brain image is our input to this regression model, and again, just to emphasize, the place where this multiple regression comes in, is the fact that we don't have just one input. We have a whole collection of inputs, the whole set of different voxels in your brain. The intensities associated with those are what we're using to try and find the relationship between this brain image and the response of happiness. Okay so to be clear, the way in which we read your mind is we can think about taking your brain scan and predicting whether you feel happy or sad."
   ]
  },
  {
   "cell_type": "markdown",
   "metadata": {},
   "source": [
    "<img src=\"images/lec2_pic19.png\">\n",
    "\n",
    "*Screenshot taken from [Coursera](https://www.coursera.org/learn/ml-regression/lecture/hO8AO/motivating-the-use-of-multiple-inputs) 3:51*\n",
    "\n",
    "<!--TEASER_END-->"
   ]
  },
  {
   "cell_type": "markdown",
   "metadata": {},
   "source": [
    "## 2) Defining notation"
   ]
  },
  {
   "cell_type": "markdown",
   "metadata": {},
   "source": [
    "The reason it's important is because unfortunately, there's no standard convention in the machine learning community for how to denote the things that we're gonna be going through in this module. \n",
    "\n",
    "- **x**: bold-faced notation of x to represent the fact that this is a vector\n",
    "- **x**[j]: our notational conventions are gonna be, bold x, square brackets of j is gonna take this vector x. And just like you would in Python, it's gonna grab out that jth element. So the result of that is gonna be the jth input to our model, and that's just a scalar, like number of square feet for the house.\n",
    "- $h_j$**(x)**: For our features, we're gonna use these functions h, it might be a function of multiple inputs. So in general, our features are a function of this bold x, this entire d-dimensional vector.\n",
    "- **x**$_i$: bold x sub i. That's our ith input, so the input associated with our ith observation, the ith house in our data set for our housing application\n",
    "- **x**$_i$[j]: Bold x, sub i, square brackets j, means we're gonna look at this d dimensional input vector for this ith house. So, the number of square feet, bedrooms, bathrooms, etc., for this ith house. And we're gonna grab out the jth input, which might be number of bathrooms. That is just a scalar."
   ]
  },
  {
   "cell_type": "markdown",
   "metadata": {},
   "source": [
    "<img src=\"images/lec2_pic20.png\">\n",
    "\n",
    "*Screenshot taken from [Coursera](https://www.coursera.org/learn/ml-regression/lecture/QGZbl/defining-notation) 3:17*\n",
    "\n",
    "<!--TEASER_END-->"
   ]
  },
  {
   "cell_type": "markdown",
   "metadata": {},
   "source": [
    "## 3) Regression with features with multiple inputs"
   ]
  },
  {
   "cell_type": "markdown",
   "metadata": {},
   "source": [
    "When we have these multiple inputs, the simplest models we can think of is just assuming that our ith observation is just a function directly of the inputs themselves, not other functions of the inputs. Just taking number of square feet, number of bathrooms, number of bedrooms and plugging those directly entirely into out linear model. And again, we still have this noise term, epsilon i.\n",
    "\n",
    "Just to be very explicit about the features associated with this simple hyperplane model\n",
    "- feature 1 = 1 (constant)\n",
    "- feature 2 = **x**[1], first input, for example: square ft\n",
    "\n",
    "And this goes on and on till we get to our last input, which is the little d+1 feature"
   ]
  },
  {
   "cell_type": "markdown",
   "metadata": {},
   "source": [
    "<img src=\"images/lec2_pic21.png\">\n",
    "\n",
    "*Screenshot taken from [Coursera](https://www.coursera.org/learn/ml-regression/lecture/5fzQC/regression-with-features-of-multiple-inputs) 1:20*\n",
    "\n",
    "<!--TEASER_END-->"
   ]
  },
  {
   "cell_type": "markdown",
   "metadata": {},
   "source": [
    "For generically, instead of just a simple hyperplane just like we talked about, instead of a single line, you can fit a polynomial. Well instead of just a hyperplane, we can fit some D-dimensional curve. This is capital D-dimensional curve. Because we're gonna assume that there's some capital D different features of this of these multiple inputs.\n",
    "\n",
    "For example:\n",
    "- feature 1 = zero feature is just that one constant term that just shifts up and down wherethis curve leads in the space.\n",
    "- feature 2 = first input like in the hyperplane example which is sq. ft\n",
    "\n",
    "And then we get all the way up to our capital D feature which is some function of any of our inputs to our regression model. So this is our generic multiple regression model with multiple features. And again we can take this big sum and represent it with this capita sigma notation."
   ]
  },
  {
   "cell_type": "markdown",
   "metadata": {},
   "source": [
    "<img src=\"images/lec2_pic22.png\">\n",
    "\n",
    "*Screenshot taken from [Coursera](https://www.coursera.org/learn/ml-regression/lecture/5fzQC/regression-with-features-of-multiple-inputs) 3:21*\n",
    "\n",
    "<!--TEASER_END-->"
   ]
  },
  {
   "cell_type": "markdown",
   "metadata": {},
   "source": [
    "**More on Notation**\n",
    "- N: the number of observation we have\n",
    "- d: the number of inputs\n",
    "- D: the number of features we take of those inputs\n"
   ]
  },
  {
   "cell_type": "markdown",
   "metadata": {},
   "source": [
    "<img src=\"images/lec2_pic23.png\">\n",
    "\n",
    "*Screenshot taken from [Coursera](https://www.coursera.org/learn/ml-regression/lecture/5fzQC/regression-with-features-of-multiple-inputs) 3:48*\n",
    "\n",
    "<!--TEASER_END-->"
   ]
  },
  {
   "cell_type": "markdown",
   "metadata": {},
   "source": [
    "## 4) Interpreting the multiple regression fit"
   ]
  },
  {
   "cell_type": "markdown",
   "metadata": {},
   "source": [
    "So just like we did in simple linear regression, we can think about interpreting the coefficients of our fitted function.\n",
    "\n",
    "let's remember what we did for the simple linear regression model, we have $\\hat w_0$, and $\\hat w_1$ as our estimated parameters of this model\n",
    "- $\\hat w_0$: an interpretation in terms of the intercept of this line. So, the value of a house with no square feet, let's just ignore that one, that one's gonna have the same interpretation throughout all of these models that we're talking about.\n",
    "- $\\hat w_1$: the predicted change in our output per unit change in our input. So, predicted change in the house value for one square foot change in the house that we're looking at."
   ]
  },
  {
   "cell_type": "markdown",
   "metadata": {},
   "source": [
    "<img src=\"images/lec2_pic24.png\">\n",
    "\n",
    "*Screenshot taken from [Coursera](https://www.coursera.org/learn/ml-regression/lecture/1mwF2/interpreting-the-multiple-regression-fit) 1:00*\n",
    "\n",
    "<!--TEASER_END-->"
   ]
  },
  {
   "cell_type": "markdown",
   "metadata": {},
   "source": [
    "How do we interpret the coefficients if we have two inputs?\n",
    "\n",
    "Well in this case, what we can do is, we can think about just fixing the other input. So let's fix our first input, the number of square feet of the house. And then think about what's the effect of the number of bathrooms. And if we fix the number of square feet, what that's equivalent to is we're taking a slice through this space for however many square feet we're looking at.\n",
    "There's this hyperplane living here in 3D space we take a slice, and once you slice that hyper plane, you just get a line."
   ]
  },
  {
   "cell_type": "markdown",
   "metadata": {},
   "source": [
    "<img src=\"images/lec2_pic25.png\">\n",
    "\n",
    "*Screenshot taken from [Coursera](https://www.coursera.org/learn/ml-regression/lecture/1mwF2/interpreting-the-multiple-regression-fit) 1:45*\n",
    "\n",
    "<!--TEASER_END-->"
   ]
  },
  {
   "cell_type": "markdown",
   "metadata": {},
   "source": [
    "So, that's this line here, for fixed number of square feet.\n",
    "\n",
    "And, then when we think about the interpretation of $\\hat w_2$, the coefficient on the number of bathrooms in the house. What that's saying is, well it's the slope of this line, so that means for a single unit change in our input, which here is number bathroom. So, adding one bathroom, what's the predicted change in the output (value of the house)?\n",
    "\n",
    "Just to be clear, we're taking a house of a fixed size and we're adding a bathroom, maybe we're changing some room to be a bathroom or knocking something down, putting in a bathroom. And we're saying, how much does that increase the value of my house to make that change? Not changing the size of the house, that's gonna stay the same, but adding a bathroom to the number of\n",
    "counts of bathrooms in this house.\n",
    "\n",
    "That is the interpretation of $\\hat w_2$."
   ]
  },
  {
   "cell_type": "markdown",
   "metadata": {},
   "source": [
    "<img src=\"images/lec2_pic26.png\">\n",
    "\n",
    "*Screenshot taken from [Coursera](https://www.coursera.org/learn/ml-regression/lecture/1mwF2/interpreting-the-multiple-regression-fit) 2:50*\n",
    "\n",
    "<!--TEASER_END-->"
   ]
  },
  {
   "cell_type": "markdown",
   "metadata": {},
   "source": [
    "So, when we go to a more general model, with some little d different inputs. In this case, when we think about interpreting any given coefficient of our fitted model, we're gonna fix all the other inputs in the model, and we're just gonna look at that one input that we can vary.\n",
    "\n",
    "For example, number of bedrooms. And so when we're looking at the coefficient associated with number of bedrooms, the interpretation is what's the predicted change in the value of my house if I change just adding one bedroom to\n",
    "the house, with everything else fixed.\n",
    "\n",
    "**When you think about the interpretation of the coefficient you have to be very careful that the interpretation is in the context of what you have in the model.**\n",
    "\n",
    "So let me give you an example where if I think about the coefficient on the number of bedrooms. If I have square footage\n",
    "of the house in my model, well what does it mean that I increase the number of bedrooms? What I've had to do is make\n",
    "some other room smaller. Let's say I am always working with manipulating the existing bedrooms. So the house currently has three bedrooms. And I'm going to modify it to have four bedrooms. Well what that probably means for the house, is that that house has four smaller bedrooms than a house of the same size with three bedrooms. So for a lot of people, that might not actually add value, that might decrease the value. To have four small bedrooms might have less value than three nicer, more grand bedrooms. Depends on the person or family of course but you can end up with a negative coefficient on the influence of the number\n",
    "of bedrooms to the value of the house. Because what it's saying is that as you keep adding, imagine adding all the way\n",
    "up to ten bedrooms, of course the impact on the value of the house can go down, if you're not able to increase the size of the house, if you're fixing the size of the house. \n",
    "\n",
    "But what if you remove square feet from the model, and you refit this model. Well, let's think about the coefficient on number of bedrooms. In this case, it's most likely going to be some positive number because number of bedrooms is indicative of the size of the house. We can use that as a proxy when we don't have square feet in the model itself. So if I think of reading some listing with a house with ten bedrooms, probably I don't imagine them to be these tiny tiny little bedrooms, I just imagine a really big house. So I imagine the value of that house would be quite large compared to a house with one or two bedrooms. So what I'm saying is that thinking about the coefficient, this maybe positive, big positive number, when I don't have\n",
    "square feet versus the coefficient associated with number of bedrooms if I include square feet being negative. I can have totally different interpretations unless I think of the interpretation as I should in the context of what's included in the model.\n",
    "\n",
    "It's a really common mistake to just look at the coefficient and say, oh, as I increase the number of bedrooms the value goes down. No, think about the coefficient and the context of what you've put into the model."
   ]
  },
  {
   "cell_type": "markdown",
   "metadata": {},
   "source": [
    "<img src=\"images/lec2_pic27.png\">\n",
    "\n",
    "*Screenshot taken from [Coursera](https://www.coursera.org/learn/ml-regression/lecture/1mwF2/interpreting-the-multiple-regression-fit) 3:46*\n",
    "\n",
    "<!--TEASER_END-->"
   ]
  },
  {
   "cell_type": "markdown",
   "metadata": {},
   "source": [
    "**Let's try to interpret the coefficient in a polynomial regression model**\n",
    "\n",
    "And here I'm just assuming that we have one input, like number of square feet, and our features are different powers of this input. So what would be the interpretation of the jth coefficient? Well I have to think about fixing everything else in the model, but if everything else is a power of this one input that I'm changing, I can't do that. \n",
    "\n",
    "So here, unfortunately, we can't think about interpreting the coefficients in the way that we did in the simple hyperplane example of the previous slide. So, just a little word of warning that if you're ever in a situation where you can't hold all your other features fixed, then you can't think about interpreting the coefficient. \n"
   ]
  },
  {
   "cell_type": "markdown",
   "metadata": {},
   "source": [
    "<img src=\"images/lec2_pic28.png\">\n",
    "\n",
    "*Screenshot taken from [Coursera](https://www.coursera.org/learn/ml-regression/lecture/1mwF2/interpreting-the-multiple-regression-fit) 7:00*\n",
    "\n",
    "<!--TEASER_END-->"
   ]
  },
  {
   "cell_type": "markdown",
   "metadata": {},
   "source": [
    "# 3) Setting the stage for computing the least squares fit"
   ]
  },
  {
   "cell_type": "markdown",
   "metadata": {},
   "source": [
    "## 1) Review of matrix algebra"
   ]
  },
  {
   "cell_type": "markdown",
   "metadata": {},
   "source": [
    "http://tutorial.math.lamar.edu/Classes/DE/LA_Matrix.aspx"
   ]
  },
  {
   "cell_type": "markdown",
   "metadata": {},
   "source": [
    "## 2) Rewriting the single observation model in vector notation"
   ]
  },
  {
   "cell_type": "markdown",
   "metadata": {},
   "source": [
    "In this part of this module, we're talking about the algorithms associated with multiple regression. And in particular, like we did in the simple linear regression case, we're gonna talk about two different algorithms. \n",
    "\n",
    "One is just a closed form solution and the other is gradient descent.\n",
    "\n",
    "And there are gonna be multiple steps that we have to take to build up to deriving these algorithms."
   ]
  },
  {
   "cell_type": "markdown",
   "metadata": {},
   "source": [
    "**Step 1: Rewrite the regression model in matrix notation**\n",
    "- first vector: our parameter, regression coefficients, **w** = $[w_0, w_1, ..., w_D]$\n",
    "- second vector: Which are all of our different features of the input, **h($x_i$)** = $[h_0 (x_i) , h_1 (x_i), ..., h_D (x_i)]$\n",
    "- error term: $\\epsilon _i$\n",
    "\n",
    "So, we have:\n",
    "$$y_i = w_0h_0 (x_i) + w_1h_1 (x_i) + ... + w_Dh_D (x_i) + \\epsilon_i $$ \n",
    "$$y_i = w^Th(x_i) + \\epsilon_i $$ \n",
    "\n",
    "The result of $w^Th(x_i)$, w transpose times h is just a scalar.\n",
    "\n",
    "So equivalent to this. Multiplying w transpose times h, well you can also think about multiplying h transpose of x times w\n"
   ]
  },
  {
   "cell_type": "markdown",
   "metadata": {},
   "source": [
    "<img src=\"images/lec2_pic29.png\">\n",
    "\n",
    "*Screenshot taken from [Coursera](https://www.coursera.org/learn/ml-regression/lecture/YWLRQ/rewriting-the-single-observation-model-in-vector-notation) 6:00*\n",
    "\n",
    "<!--TEASER_END-->"
   ]
  },
  {
   "cell_type": "markdown",
   "metadata": {
    "collapsed": true
   },
   "source": [
    "## 3) Rewriting the model for all observations in matrix notation"
   ]
  },
  {
   "cell_type": "markdown",
   "metadata": {},
   "source": [
    "It's gonna be helpful in our deriving these algorithms to write the equation for all the observations stacked up together.\n",
    "\n",
    "Let's start by just stacking up all our observations, taking all these pink squares that I showed on this previous slide here and putting them into one big vector. Where this vector is:\n",
    "- $y_1$: my first house sale\n",
    "- $y_2$: my second house sale\n",
    "- $y_N$: that's my capital Nth house sale.\n",
    "\n",
    "I can write the model for all these observations in this big matrix vector notation, where I have the w vector contains $[w_0, w_1, ..., w_D]$. And I know that each one of my observations has an error associated with it, vector epsilon $[\\epsilon_1, \\epsilon_2, ..., \\epsilon_N]$\n",
    "\n",
    "Let's describe this big green box, this matrix. Well, how do I form my first observation? I multiply the weights by the features of that first observation, so the features of that first observation are $[h_0(x_1), h_1(x_1), ..., h_D(x_1)]$. If we just look at the first row of the matrix, that is exactly H transpose, $h^T(x_1)$. So from $h_0(x_1)$ all the way up to $h_0(x_N)$, and we can call this matrix capital H.\n",
    "\n",
    "Based on this, we can write our entire regression model for capital N observation:\n",
    "$$y = Hw + \\epsilon$$\n",
    "\n",
    "\n"
   ]
  },
  {
   "cell_type": "markdown",
   "metadata": {},
   "source": [
    "<img src=\"images/lec2_pic30.png\">\n",
    "\n",
    "*Screenshot taken from [Coursera](https://www.coursera.org/learn/ml-regression/lecture/8OiEb/rewriting-the-model-for-all-observations-in-matrix-notation) 4:25*\n",
    "\n",
    "<!--TEASER_END-->"
   ]
  },
  {
   "cell_type": "markdown",
   "metadata": {},
   "source": [
    "## 4) Computing the cost of a D-dimensional curve"
   ]
  },
  {
   "cell_type": "markdown",
   "metadata": {},
   "source": [
    "To fit a function to data, we need to be able to talk about what the cost is of any given fit to the data and then search our algorithm is going to be to search over all these different fits to minimize this cost. So let's again talk about the cost of\n",
    "the fit for multiple regression. So in terms of our flow chart for regression, we're talking about the quality metric term. "
   ]
  },
  {
   "cell_type": "markdown",
   "metadata": {},
   "source": [
    "<img src=\"images/lec2_pic31.png\">\n",
    "\n",
    "*Screenshot taken from [Coursera](https://www.coursera.org/learn/ml-regression/lecture/82RKt/computing-the-cost-of-a-d-dimensional-curve) 0:28*\n",
    "\n",
    "<!--TEASER_END-->"
   ]
  },
  {
   "cell_type": "markdown",
   "metadata": {},
   "source": [
    "**Let's recall the residual sum of squares**\n",
    "\n",
    "Our residual sum of squares was looking at taking our actual observation $y_i$, subtracting off the fitted function at that point $x_i$, taking the square, summing over all observations in our training dataset. And we have $\\hat y_i$ as our predicted value of observation $y_i$, if we use a line defined by $w_0$ and $w_1$."
   ]
  },
  {
   "cell_type": "markdown",
   "metadata": {},
   "source": [
    "<img src=\"images/lec2_pic32.png\">\n",
    "\n",
    "*Screenshot taken from [Coursera](https://www.coursera.org/learn/ml-regression/lecture/82RKt/computing-the-cost-of-a-d-dimensional-curve) 1:30*\n",
    "\n",
    "<!--TEASER_END-->"
   ]
  },
  {
   "cell_type": "markdown",
   "metadata": {},
   "source": [
    "**Now we can talk about residual sum of squares in the case of multiple regression**\n",
    "\n",
    "The residual is the difference between our actual observation and our predicted value. So we're gonna plug in our predicted\n",
    "value there. In this case, we take the weight vector, w and then we multiply our features for that observation by that factor.\n",
    "So the predicted value simple is: $h^T(x_i)w$. So, just to use the notation that we've been using before, this here is $\\hat y_i$, assuming we use w, as the parameters of this fit. \n",
    "\n"
   ]
  },
  {
   "cell_type": "markdown",
   "metadata": {},
   "source": [
    "<img src=\"images/lec2_pic33.png\">\n",
    "\n",
    "*Screenshot taken from [Coursera](https://www.coursera.org/learn/ml-regression/lecture/82RKt/computing-the-cost-of-a-d-dimensional-curve) 3:33*\n",
    "\n",
    "<!--TEASER_END-->"
   ]
  },
  {
   "cell_type": "markdown",
   "metadata": {},
   "source": [
    "**Let's take this residual sum of squares and write it in matrix notation**\n",
    "\n",
    "\\begin{eqnarray}\n",
    "RSS(w) &=& \\sum_{i=1}^n(y_i - h(x_i)^Tw)^2 \\\\\n",
    "       &=& (y - Hw)^T(y-Hw)\n",
    "\\end{eqnarray}"
   ]
  },
  {
   "cell_type": "markdown",
   "metadata": {},
   "source": [
    "**Break down the math (part 1)**\n",
    "\n",
    "The first part, we are looking at this term: $(y-Hw)$, we're going to think about stacking up all of our predicted values. So we have a vector of $[\\hat y_1, \\hat y_2, ..., \\hat y_N]$ (N predicted observations), the parameter vector w, and a big matrix H which represent the matrix of all of our features per observation stacked up together.\n",
    "\n",
    "Based on this, we know that $\\hat y$, the vector of all of our end predicted observations is equal to : $\\hat y = Hw$\n",
    "\n",
    "So, let's take this term, and plug it in: $y - Hw$. So this is equivalent of looking at our vector of actual observed values and subtracting our vector of predicted values. So we take all our house sales prices, and we look at all the predicted house prices, given a set of parameters, w, and we subtract them. The result of this is the vector of residuals, because the result of this is the difference between my first house sale and my predicted house sale.\n",
    "\n",
    "$$y - Hw = y - \\hat y= \n",
    "\\begin{bmatrix} \n",
    "residual_1\n",
    "\\\\ residual_2\n",
    "\\\\ ...\n",
    "\\\\ residual_N\n",
    "\\end{bmatrix}$$"
   ]
  },
  {
   "cell_type": "markdown",
   "metadata": {},
   "source": [
    "<img src=\"images/lec2_pic34.png\">\n",
    "\n",
    "*Screenshot taken from [Coursera](https://www.coursera.org/learn/ml-regression/lecture/82RKt/computing-the-cost-of-a-d-dimensional-curve) 7:00*\n",
    "\n",
    "<!--TEASER_END-->"
   ]
  },
  {
   "cell_type": "markdown",
   "metadata": {},
   "source": [
    "**Break down the math (part 2)**\n",
    "Let's move on to the second part of the reasoning behind this equation here. when I multiply this vector, we now know that the result of this is a vector of residuals by, it's transposed.\n",
    "\\begin{eqnarray}\n",
    "(y - Hw)^T(y-Hw) &=& (residual_1^2 + residual_2^2 + ... + residual_N^2) \\\\\n",
    "                 &=& \\sum_{i=1}^n residual_i^2\n",
    "\\end{eqnarray}\n",
    "\n",
    "And this, by definition, that is exactly what residual sum of squares is. This is residual sum of squares using these w parameters. I'm summing up the square of my residuals from the predictions made using w."
   ]
  },
  {
   "cell_type": "markdown",
   "metadata": {},
   "source": [
    "<img src=\"images/lec2_pic35.png\">\n",
    "\n",
    "*Screenshot taken from [Coursera](https://www.coursera.org/learn/ml-regression/lecture/82RKt/computing-the-cost-of-a-d-dimensional-curve) 7:40*\n",
    "\n",
    "<!--TEASER_END-->"
   ]
  },
  {
   "cell_type": "markdown",
   "metadata": {},
   "source": [
    "# 4) Computing the least squares D-dimensional curve"
   ]
  },
  {
   "cell_type": "markdown",
   "metadata": {},
   "source": [
    "## 1) Computing the gradient of RSS"
   ]
  },
  {
   "cell_type": "markdown",
   "metadata": {},
   "source": [
    "So now we're onto the final important step of the derivation, which is taking the gradient.\n",
    "\\begin{eqnarray}\n",
    "\\bigtriangledown RSS(w) &=& \\bigtriangledown [(y - Hw)^T (y - Hw)] \\\\\n",
    "                 &=& -2H^T(y-Hw)\n",
    "\\end{eqnarray}\n",
    "\n",
    "I'm going to walk through an analogy to 1D case, and we'll see some patterns, and maybe you'll believe that that's the result of the matrix case.\n",
    "\n",
    "So, in particular, if we think about taking the derivative with respect to w of a function that is $(y - hw)(y - hw)$ where these things are all scalars. So this is the 1D analog to this equation here, where the gradient is just this derivative of this one parameter w. What's the derivative of this?"
   ]
  },
  {
   "cell_type": "markdown",
   "metadata": {},
   "source": [
    "<img src=\"images/lec2_pic36.png\">\n",
    "\n",
    "*Screenshot taken from [Coursera](https://www.coursera.org/learn/ml-regression/lecture/IYnxj/computing-the-gradient-of-rss) 2:30*\n",
    "\n",
    "<!--TEASER_END-->"
   ]
  },
  {
   "cell_type": "markdown",
   "metadata": {},
   "source": [
    "## 2) Approach 1: closed-form solution"
   ]
  },
  {
   "cell_type": "markdown",
   "metadata": {},
   "source": [
    "So the first approach that we're gonna talk about is just a closed form solution where we take our gradient, and simply set it equal to zero, and solve for w.\n",
    "\n",
    "Here's my gradient of our residual sum of squares, and I've set it equal to zero. And now let's solve for w.\n",
    "\n",
    "We have a whole collection of different parameters, $w_0$ all the way up to $w_D$. These are the things multiplying all the features we're using in our multiple regression model. And in one line I've written the solution to the fit. I've fit all of $w_0$, $w_1$, all the way up to $w_D$ just by doing this matrix multiply. \n"
   ]
  },
  {
   "cell_type": "markdown",
   "metadata": {},
   "source": [
    "<img src=\"images/lec2_pic37.png\">\n",
    "\n",
    "*Screenshot taken from [Coursera](https://www.coursera.org/learn/ml-regression/lecture/zxirl/approach-1-closed-form-solution) 3:26*\n",
    "\n",
    "<!--TEASER_END-->"
   ]
  },
  {
   "cell_type": "markdown",
   "metadata": {
    "collapsed": true
   },
   "source": [
    "## 3) Discussing the closed-form solution"
   ]
  },
  {
   "cell_type": "markdown",
   "metadata": {},
   "source": [
    "Let's think a little bit about this form of this closed form solution \n",
    "$$\\hat w = (H^TH)^{-1}H^Ty$$\n",
    "\n",
    "H is the green matrix, which has:\n",
    "- N rows: number of observation\n",
    "- D columns: number of features.\n",
    "So $H^T$ is a (D x N) matrix, and H is a (N x D) matrix, and if we multiply these 2 matrices together, the result is a square matrix, a (D by D) matrix, or (number of features by number of features). And then we need to take the inverse of this matrix. In most cases, this matrix will be invertible. If the number of observations we have is larger than the number of features, N > D. Okay that means that the this matrix is full rank and then we can take its inverse. \n",
    "\n",
    "The complexity of this matrix is $O(D^3)$, and what that means is that the number of operations we have to do to invert this matrix scales cubically with the number of features in our model. So if you have lots and lots and lots of features this can be really computationally intensive to do."
   ]
  },
  {
   "cell_type": "markdown",
   "metadata": {},
   "source": [
    "<img src=\"images/lec2_pic38.png\">\n",
    "\n",
    "*Screenshot taken from [Coursera](https://www.coursera.org/learn/ml-regression/lecture/jOVX8/discussing-the-closed-form-solution) 3:52*\n",
    "\n",
    "<!--TEASER_END-->"
   ]
  },
  {
   "cell_type": "markdown",
   "metadata": {},
   "source": [
    "## 4) Approach 2: gradient descent"
   ]
  },
  {
   "cell_type": "markdown",
   "metadata": {},
   "source": [
    "**So the simple alternative approach is gradient descent.**\n",
    "\n",
    "Remember that the gradient descent algorithm, we just initialize our vector of parameter somewhere and take these gradient steps. And eventually, we will converge to the optimum of this problem.\n",
    "\n",
    "**So what does this algorithm look like for multiple regression? **\n",
    "\n",
    "It looks very similar to our simple linear regression, where we say while not converged, we're gonna take our w parameters. And we're gonna update them by subtracting sum step size atta times the gradient of our residual sum of squares, at our previous set of parameters wt.\n",
    "$$w^{(t+1)} = w^{(t)} - \\eta\\bigtriangledown RSS(w^{(t)})$$\n",
    "\n",
    "**What is our gradient of the residual sum of squares?**\n",
    "$$\\bigtriangledown RSS(w^{(t)}) = -2H^T(y - Hw)$$\n",
    "\n",
    "So we can update our gradient algorithm:\n",
    "\n",
    "$$w^{(t+1)} = w^{(t)} + 2\\eta H^T(y - Hw^{(t)})$$\n",
    "\n",
    "And h times w at iteration t, $Hw^{(t)}$, is my predicted set of observations, the whole vector of them. Assuming that I use w at iteration t performing those predictions. Okay, so what this version of the algorithm is doing is it's taking our entire w vector, all the regression coefficients in our model, and updating them all at once using this matrix notation shown here. "
   ]
  },
  {
   "cell_type": "markdown",
   "metadata": {},
   "source": [
    "<img src=\"images/lec2_pic39.png\">\n",
    "\n",
    "*Screenshot taken from [Coursera](https://www.coursera.org/learn/ml-regression/lecture/0v3EJ/approach-2-gradient-descent) 1:30*\n",
    "\n",
    "<!--TEASER_END-->"
   ]
  },
  {
   "cell_type": "markdown",
   "metadata": {},
   "source": [
    "## 5) Feature-by-feature update"
   ]
  },
  {
   "cell_type": "markdown",
   "metadata": {},
   "source": [
    "**Let's think about the update just to a single feature**\n",
    "\n",
    "First, we can go back to this form of our residual sum of squares and drive it directly.\n",
    "\\begin{eqnarray}\n",
    "RSS(w) &=& \\sum_{i=1}^N(y_i - h(x_i)^Tw)^2 \\\\\n",
    "       &=& \\sum_{i=1}^N(y_i - w_0h_0(x_i) - w_1h_1(x_i) - ... - w_Dh_D(x_i))^2\n",
    "\\end{eqnarray}\n",
    "\n",
    "What's the gradient? It's just a vector of a bunch of partials with respect to $w_0$ then $w_1$ ,all the way up to $w_D$. Let's just look at one element, which is the partial of this residual sum of squares with respect to $w_j$, and that will give us our update for this j entry. So, the partial derivative ofthis function with respect to $w_j$.\n",
    "\n",
    "We keep this sum on the outside, and then we take the derivative of this function with respect to $w_j$, and when we are taking the derivative, we have $(-h_j(x_j))$ as our coefficient associated with $w_j$\n",
    "\n",
    "$$\\sum_{i=1}^N 2(y_i - w_0h_0(x_i) - w_1h_1(x_i) - ... - w_Dh_D(x_i))(-h_j(x_j))$$\n",
    "$$= -2\\sum_{i=1}^N h_j(x_j)(y_i - h(x_i)^Tw)$$\n",
    "\n",
    "So I'm gonna plug this into the update to the Jth feature weight, where I take the previous weight of that feature and subtract off a step size times the partial.\n",
    "\n",
    "$$w_j^{(t+1)} \\leftarrow w_j^{(t)} - \\eta(-2\\sum_{i=1}^N h_j(x_j)(y_i - h(x_i)^Tw^{(t)}))$$\n",
    "\n",
    "Again, we can add a little bit of interpretation here where this part here, this is, I'm taking the features, all the features for my Ith observation, multiplying by the entire w vector. So, this is my predicted value of my Ith observation using $w^{(t)}$. \n",
    "\n",
    "$$h(x_i)^Tw^{(t)} = \\hat y_i(w^{(t)})$$"
   ]
  },
  {
   "cell_type": "markdown",
   "metadata": {},
   "source": [
    "<img src=\"images/lec2_pic40.png\">\n",
    "\n",
    "*Screenshot taken from [Coursera](https://www.coursera.org/learn/ml-regression/lecture/EtPvl/feature-by-feature-update) 4:40*\n",
    "\n",
    "<!--TEASER_END-->"
   ]
  },
  {
   "cell_type": "markdown",
   "metadata": {},
   "source": [
    "Now, let's think about interpreting this update here. In particular, let's assume that $w_j$ corresponds to the coefficient associated with number of baths. So, let's say the Jth features, let's just assume is number of bathrooms. \n",
    "\n",
    "If I'm underestimating the impact of the number of baths on my predicted value of the house. So, what that means is, if I look\n",
    "along this bathrooms direction, and I look at the slope of this hyperplane, I'm saying that it's not steep enough so increasing\n",
    "bathrooms actually has more impact on the value of the house than my currently estimated model thinks it does. In this cases, $\\hat w_j^{(t)}$ is too small.\n",
    "\n",
    "Then what I'm gonna have is that my observations in general are larger than my predicted observations, so this term here $(y_i - \\hat y_i(w^{(t)}))$ on average, will be positive. \n",
    "\n",
    "The impact of that is this whole term here, what we're adding to $w_j$, will be positive. So, we're gonna increase $w_j$."
   ]
  },
  {
   "cell_type": "markdown",
   "metadata": {},
   "source": [
    "<img src=\"images/lec2_pic41.png\">\n",
    "\n",
    "*Screenshot taken from [Coursera](https://www.coursera.org/learn/ml-regression/lecture/EtPvl/feature-by-feature-update) 8:30*\n",
    "\n",
    "<!--TEASER_END-->"
   ]
  },
  {
   "cell_type": "markdown",
   "metadata": {},
   "source": [
    "## 6) Algorithmic summary of gradient descent approach"
   ]
  },
  {
   "cell_type": "markdown",
   "metadata": {},
   "source": [
    "Let's actually summarize the entire gradient descent algorithm for multiple regression. Stepping through every step of this algorithm.\n",
    "\n",
    "First, we're just gonna initialize all of our different parameters to be zero at the first iteration. Let's just assume that they're all initialized to zero and we're gonna start our iteration counter at one.\n",
    "\n",
    "- init $w^{(1)} = 0$, t = 1\n",
    "\n",
    "Then we said while the gradient of our residual sum of squares, the magnitude of that gradient is sufficiently large. Larger than some tolerance epsilon then we were going to keep going. \n",
    "\n",
    "while $||\\bigtriangledown RSS(w^{(t)})|| > \\epsilon$\n",
    "\n",
    "So what are the elements of the gradient of residual sum of squares? Well, it's a vector where every element is the partial derivative with respect to some parameter. I'm gonna refer to that as partial of j, okay? So, when I take the magnitudeof the vector I multiply the vector times its transposed, take the square root. That's equivalent to saying I'm gonna sum up the partial derivative with respect to the first feature squared plus all the way up to the partial derivative of the capital Dth feature, and the indexing start at 0.\n",
    "\n",
    "$$||\\bigtriangledown RSS(w^{(t)})|| = \\sqrt{partial[0]^2 + ... + partial[D]^2}$$\n",
    "\n",
    "So if the result of this is greater than epsilon then I'm gonna continue my gradient descent iterates. If it's less than epsilon\n",
    "then I'm gonna stop.\n",
    "\n",
    "But let's talk about what the actual iterates are. Well, for every feature in my multiple regression model, first thing I'm going to do is I'm going to calculate this partial derivative, with respect to the jth feature. And I'm going to store that,\n",
    "because that's going to be useful in both taking the gradient step as well as monitoring convergence as I wrote here. So this jth partial, we derived it on the previous slide. It has this formed and then my gradient step takes that jth coefficient at timed t and subtracts my step size times that partial derivative. And then once I cycle through all the features in my model, then I'm gonna increment this t counter. I'm gonna check whether I've achieved convergence or not. If not I'm gonna loop through, and I'm gonna do this until this condition, this magnitude of my gradient is less than epsilon."
   ]
  },
  {
   "cell_type": "markdown",
   "metadata": {},
   "source": [
    "<img src=\"images/lec2_pic42.png\">\n",
    "\n",
    "*Screenshot taken from [Coursera](https://www.coursera.org/learn/ml-regression/lecture/SWpjC/algorithmic-summary-of-gradient-descent-approach) 3:20*\n",
    "\n",
    "<!--TEASER_END-->"
   ]
  },
  {
   "cell_type": "markdown",
   "metadata": {},
   "source": [
    "# 5) Summarizing multiple regression"
   ]
  },
  {
   "cell_type": "markdown",
   "metadata": {},
   "source": [
    "<img src=\"images/lec2_pic43.png\">\n",
    "\n",
    "*Screenshot taken from [Coursera](https://www.coursera.org/learn/ml-regression/lecture/dfzIk/a-brief-recap) 0:45*\n",
    "\n",
    "<!--TEASER_END-->"
   ]
  }
 ],
 "metadata": {
  "kernelspec": {
   "display_name": "Python 2",
   "language": "python",
   "name": "python2"
  },
  "language_info": {
   "codemirror_mode": {
    "name": "ipython",
    "version": 2
   },
   "file_extension": ".py",
   "mimetype": "text/x-python",
   "name": "python",
   "nbconvert_exporter": "python",
   "pygments_lexer": "ipython2",
   "version": "2.7.10"
  }
 },
 "nbformat": 4,
 "nbformat_minor": 0
}
