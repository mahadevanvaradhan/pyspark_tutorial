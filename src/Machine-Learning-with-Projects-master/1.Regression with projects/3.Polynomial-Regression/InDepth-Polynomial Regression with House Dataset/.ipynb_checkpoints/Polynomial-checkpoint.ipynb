{
 "cells": [
  {
   "cell_type": "code",
   "execution_count": 1,
   "metadata": {},
   "outputs": [],
   "source": [
    "import pandas as pd\n",
    "import numpy as np"
   ]
  },
  {
   "cell_type": "code",
   "execution_count": 2,
   "metadata": {},
   "outputs": [
    {
     "name": "stdout",
     "output_type": "stream",
     "text": [
      "[1. 2. 3.]\n",
      "[ 1.  8. 27.]\n"
     ]
    }
   ],
   "source": [
    "#play with np.power\n",
    "mylist = [1., 2., 3.]\n",
    "tmp = np.array(mylist)\n",
    "tmp_cubed = np.power(tmp, 3)\n",
    "print (tmp)\n",
    "print (tmp_cubed)"
   ]
  },
  {
   "cell_type": "code",
   "execution_count": 3,
   "metadata": {},
   "outputs": [
    {
     "name": "stdout",
     "output_type": "stream",
     "text": [
      "   power_1\n",
      "0      1.0\n",
      "1      2.0\n",
      "2      3.0\n"
     ]
    }
   ],
   "source": [
    "#play with np.power\n",
    "ex_df = pd.DataFrame()\n",
    "ex_df['power_1'] = tmp\n",
    "print (ex_df)"
   ]
  },
  {
   "cell_type": "code",
   "execution_count": 4,
   "metadata": {},
   "outputs": [],
   "source": [
    "#Using the hints above complete the following function to create an SFrame consisting of the powers of an SArray up\n",
    "#to a specific degree:\n",
    "def polynomial_dataframe(feature, degree): # feature is pandas.Series type\n",
    "    # assume that degree >= 1\n",
    "    # initialize the dataframe:\n",
    "    poly_dataframe = pd.DataFrame()\n",
    "    # and set poly_dataframe['power_1'] equal to the passed feature\n",
    "    poly_dataframe['power_1'] = feature\n",
    "    # first check if degree > 1\n",
    "    if degree > 1:\n",
    "        # then loop over the remaining degrees:\n",
    "        for power in range(2, degree+1):\n",
    "            # first we'll give the column a name:\n",
    "            name = 'power_' + str(power)\n",
    "            # assign poly_dataframe[name] to be feature^power; use apply(*)\n",
    "            poly_dataframe[name] = np.power(feature, power)\n",
    "    return poly_dataframe"
   ]
  },
  {
   "cell_type": "code",
   "execution_count": 5,
   "metadata": {},
   "outputs": [
    {
     "name": "stdout",
     "output_type": "stream",
     "text": [
      "   power_1  power_2  power_3\n",
      "0      1.0      1.0      1.0\n",
      "1      2.0      4.0      8.0\n",
      "2      3.0      9.0     27.0\n"
     ]
    }
   ],
   "source": [
    "#To test your function consider the smaller tmp variable and what you would expect the outcome of the following call:\n",
    "print (polynomial_dataframe(tmp, 3))"
   ]
  },
  {
   "cell_type": "code",
   "execution_count": 6,
   "metadata": {},
   "outputs": [],
   "source": [
    "#Visualizing polynomial regression\n",
    "#Let's use matplotlib to visualize what a polynomial regression looks like on some real data.\n",
    "sales = pd.read_csv('kc_house_data.csv')"
   ]
  },
  {
   "cell_type": "code",
   "execution_count": 7,
   "metadata": {},
   "outputs": [
    {
     "data": {
      "text/html": [
       "<div>\n",
       "<style scoped>\n",
       "    .dataframe tbody tr th:only-of-type {\n",
       "        vertical-align: middle;\n",
       "    }\n",
       "\n",
       "    .dataframe tbody tr th {\n",
       "        vertical-align: top;\n",
       "    }\n",
       "\n",
       "    .dataframe thead th {\n",
       "        text-align: right;\n",
       "    }\n",
       "</style>\n",
       "<table border=\"1\" class=\"dataframe\">\n",
       "  <thead>\n",
       "    <tr style=\"text-align: right;\">\n",
       "      <th></th>\n",
       "      <th>id</th>\n",
       "      <th>date</th>\n",
       "      <th>price</th>\n",
       "      <th>bedrooms</th>\n",
       "      <th>bathrooms</th>\n",
       "      <th>sqft_living</th>\n",
       "      <th>sqft_lot</th>\n",
       "      <th>floors</th>\n",
       "      <th>waterfront</th>\n",
       "      <th>view</th>\n",
       "      <th>...</th>\n",
       "      <th>grade</th>\n",
       "      <th>sqft_above</th>\n",
       "      <th>sqft_basement</th>\n",
       "      <th>yr_built</th>\n",
       "      <th>yr_renovated</th>\n",
       "      <th>zipcode</th>\n",
       "      <th>lat</th>\n",
       "      <th>long</th>\n",
       "      <th>sqft_living15</th>\n",
       "      <th>sqft_lot15</th>\n",
       "    </tr>\n",
       "  </thead>\n",
       "  <tbody>\n",
       "    <tr>\n",
       "      <th>19452</th>\n",
       "      <td>3980300371</td>\n",
       "      <td>20140926T000000</td>\n",
       "      <td>142000.0</td>\n",
       "      <td>0</td>\n",
       "      <td>0.00</td>\n",
       "      <td>290</td>\n",
       "      <td>20875</td>\n",
       "      <td>1.0</td>\n",
       "      <td>0</td>\n",
       "      <td>0</td>\n",
       "      <td>...</td>\n",
       "      <td>1</td>\n",
       "      <td>290</td>\n",
       "      <td>0</td>\n",
       "      <td>1963</td>\n",
       "      <td>0</td>\n",
       "      <td>98024</td>\n",
       "      <td>47.5308</td>\n",
       "      <td>-121.888</td>\n",
       "      <td>1620</td>\n",
       "      <td>22850</td>\n",
       "    </tr>\n",
       "    <tr>\n",
       "      <th>15381</th>\n",
       "      <td>2856101479</td>\n",
       "      <td>20140701T000000</td>\n",
       "      <td>276000.0</td>\n",
       "      <td>1</td>\n",
       "      <td>0.75</td>\n",
       "      <td>370</td>\n",
       "      <td>1801</td>\n",
       "      <td>1.0</td>\n",
       "      <td>0</td>\n",
       "      <td>0</td>\n",
       "      <td>...</td>\n",
       "      <td>5</td>\n",
       "      <td>370</td>\n",
       "      <td>0</td>\n",
       "      <td>1923</td>\n",
       "      <td>0</td>\n",
       "      <td>98117</td>\n",
       "      <td>47.6778</td>\n",
       "      <td>-122.389</td>\n",
       "      <td>1340</td>\n",
       "      <td>5000</td>\n",
       "    </tr>\n",
       "  </tbody>\n",
       "</table>\n",
       "<p>2 rows × 21 columns</p>\n",
       "</div>"
      ],
      "text/plain": [
       "               id             date     price  bedrooms  bathrooms  \\\n",
       "19452  3980300371  20140926T000000  142000.0         0       0.00   \n",
       "15381  2856101479  20140701T000000  276000.0         1       0.75   \n",
       "\n",
       "       sqft_living  sqft_lot  floors  waterfront  view  ...  grade  \\\n",
       "19452          290     20875     1.0           0     0  ...      1   \n",
       "15381          370      1801     1.0           0     0  ...      5   \n",
       "\n",
       "       sqft_above  sqft_basement  yr_built  yr_renovated  zipcode      lat  \\\n",
       "19452         290              0      1963             0    98024  47.5308   \n",
       "15381         370              0      1923             0    98117  47.6778   \n",
       "\n",
       "          long  sqft_living15  sqft_lot15  \n",
       "19452 -121.888           1620       22850  \n",
       "15381 -122.389           1340        5000  \n",
       "\n",
       "[2 rows x 21 columns]"
      ]
     },
     "execution_count": 7,
     "metadata": {},
     "output_type": "execute_result"
    }
   ],
   "source": [
    "#As in Week 3, we will use the sqft_living variable. For plotting purposes (connecting the dots), you'll need to sort by the values of sqft_living. \n",
    "#For houses with identical square footage, we break the tie by their prices.\n",
    "sales = sales.sort_values(['sqft_living', 'price'])\n",
    "sales[:2]"
   ]
  },
  {
   "cell_type": "code",
   "execution_count": 8,
   "metadata": {},
   "outputs": [
    {
     "data": {
      "text/html": [
       "<div>\n",
       "<style scoped>\n",
       "    .dataframe tbody tr th:only-of-type {\n",
       "        vertical-align: middle;\n",
       "    }\n",
       "\n",
       "    .dataframe tbody tr th {\n",
       "        vertical-align: top;\n",
       "    }\n",
       "\n",
       "    .dataframe thead th {\n",
       "        text-align: right;\n",
       "    }\n",
       "</style>\n",
       "<table border=\"1\" class=\"dataframe\">\n",
       "  <thead>\n",
       "    <tr style=\"text-align: right;\">\n",
       "      <th></th>\n",
       "      <th>power_1</th>\n",
       "      <th>price</th>\n",
       "    </tr>\n",
       "  </thead>\n",
       "  <tbody>\n",
       "    <tr>\n",
       "      <th>19452</th>\n",
       "      <td>290</td>\n",
       "      <td>142000.0</td>\n",
       "    </tr>\n",
       "    <tr>\n",
       "      <th>15381</th>\n",
       "      <td>370</td>\n",
       "      <td>276000.0</td>\n",
       "    </tr>\n",
       "  </tbody>\n",
       "</table>\n",
       "</div>"
      ],
      "text/plain": [
       "       power_1     price\n",
       "19452      290  142000.0\n",
       "15381      370  276000.0"
      ]
     },
     "execution_count": 8,
     "metadata": {},
     "output_type": "execute_result"
    }
   ],
   "source": [
    "#Let's start with a degree 1 polynomial using 'sqft_living' (i.e. a line) to predict 'price' and plot what it looks like.\n",
    "poly1_data = polynomial_dataframe(sales['sqft_living'], 1)\n",
    "poly1_data['price'] = sales['price'] # add price to the data since it's the target\n",
    "poly1_data[:2]"
   ]
  },
  {
   "cell_type": "code",
   "execution_count": 9,
   "metadata": {},
   "outputs": [],
   "source": [
    "# Create linear regression object\n",
    "from sklearn import datasets, linear_model\n",
    "regr = linear_model.LinearRegression()"
   ]
  },
  {
   "cell_type": "code",
   "execution_count": 10,
   "metadata": {},
   "outputs": [],
   "source": [
    "# Train a regression model\n",
    "model1 = regr.fit(poly1_data['power_1'].values.reshape((-1,1)), poly1_data['price'])"
   ]
  },
  {
   "cell_type": "code",
   "execution_count": 11,
   "metadata": {},
   "outputs": [
    {
     "name": "stdout",
     "output_type": "stream",
     "text": [
      "model 1: Coefficients: \n",
      " [280.6235679]\n",
      "model 1: intercept: \n",
      " -43580.74309447396\n"
     ]
    }
   ],
   "source": [
    "#let's take a look at the weights before we plot\n",
    "print('model 1:','Coefficients: \\n', regr.coef_)\n",
    "# The intercept of model1\n",
    "print('model 1:','intercept: \\n', regr.intercept_)"
   ]
  },
  {
   "cell_type": "code",
   "execution_count": 12,
   "metadata": {},
   "outputs": [
    {
     "data": {
      "text/plain": [
       "array([  37800.09159579,   60249.97702758,   63056.21270656, ...,\n",
       "       2773879.87859591, 3337933.25006978, 3756062.36623698])"
      ]
     },
     "execution_count": 12,
     "metadata": {},
     "output_type": "execute_result"
    }
   ],
   "source": [
    "model1.predict(poly1_data['power_1'].values.reshape((-1,1)))"
   ]
  },
  {
   "cell_type": "code",
   "execution_count": 13,
   "metadata": {},
   "outputs": [],
   "source": [
    "import matplotlib.pyplot as plt\n",
    "%matplotlib inline"
   ]
  },
  {
   "cell_type": "code",
   "execution_count": 14,
   "metadata": {},
   "outputs": [
    {
     "data": {
      "text/plain": [
       "[<matplotlib.lines.Line2D at 0x1e66dc97548>,\n",
       " <matplotlib.lines.Line2D at 0x1e66dccc888>]"
      ]
     },
     "execution_count": 14,
     "metadata": {},
     "output_type": "execute_result"
    },
    {
     "data": {
      "image/png": "[encoded data removed]",
      "text/plain": [
       "<Figure size 432x288 with 1 Axes>"
      ]
     },
     "metadata": {
      "needs_background": "light"
     },
     "output_type": "display_data"
    }
   ],
   "source": [
    "fig = plt.figure()\n",
    "plt.xlabel('sqft')\n",
    "plt.ylabel('Price ($)')\n",
    "plt.plot(poly1_data['power_1'],poly1_data['price'],'.',\n",
    "        poly1_data['power_1'], model1.predict(poly1_data['power_1'].values.reshape((-1,1))),'-')"
   ]
  },
  {
   "cell_type": "code",
   "execution_count": 15,
   "metadata": {},
   "outputs": [
    {
     "data": {
      "text/html": [
       "<div>\n",
       "<style scoped>\n",
       "    .dataframe tbody tr th:only-of-type {\n",
       "        vertical-align: middle;\n",
       "    }\n",
       "\n",
       "    .dataframe tbody tr th {\n",
       "        vertical-align: top;\n",
       "    }\n",
       "\n",
       "    .dataframe thead th {\n",
       "        text-align: right;\n",
       "    }\n",
       "</style>\n",
       "<table border=\"1\" class=\"dataframe\">\n",
       "  <thead>\n",
       "    <tr style=\"text-align: right;\">\n",
       "      <th></th>\n",
       "      <th>power_1</th>\n",
       "      <th>power_2</th>\n",
       "      <th>price</th>\n",
       "    </tr>\n",
       "  </thead>\n",
       "  <tbody>\n",
       "    <tr>\n",
       "      <th>19452</th>\n",
       "      <td>290</td>\n",
       "      <td>84100</td>\n",
       "      <td>142000.0</td>\n",
       "    </tr>\n",
       "    <tr>\n",
       "      <th>15381</th>\n",
       "      <td>370</td>\n",
       "      <td>136900</td>\n",
       "      <td>276000.0</td>\n",
       "    </tr>\n",
       "  </tbody>\n",
       "</table>\n",
       "</div>"
      ],
      "text/plain": [
       "       power_1  power_2     price\n",
       "19452      290    84100  142000.0\n",
       "15381      370   136900  276000.0"
      ]
     },
     "execution_count": 15,
     "metadata": {},
     "output_type": "execute_result"
    }
   ],
   "source": [
    "#What if we wanted to plot a second degree polynomial?\n",
    "poly2_data = polynomial_dataframe(sales['sqft_living'], 2)\n",
    "my_features = poly2_data.columns.values.tolist() # get the name of the features\n",
    "poly2_data['price'] = sales['price'] # add price to the data since it's the target\n",
    "poly2_data[:2]\n",
    "#my_features"
   ]
  },
  {
   "cell_type": "code",
   "execution_count": 16,
   "metadata": {},
   "outputs": [],
   "source": [
    "#Train model2\n",
    "model2 = regr.fit(poly2_data[my_features].values.reshape((-1,2)), poly2_data['price'])"
   ]
  },
  {
   "cell_type": "code",
   "execution_count": 17,
   "metadata": {},
   "outputs": [
    {
     "name": "stdout",
     "output_type": "stream",
     "text": [
      "model 2: Coefficients: \n",
      " [6.79940947e+01 3.85812609e-02]\n",
      "model 2: intercept: \n",
      " 199222.27930548496\n"
     ]
    }
   ],
   "source": [
    "#let's take a look at the weights before we plot\n",
    "print('model 2:','Coefficients: \\n', regr.coef_)\n",
    "# The intercept of model1\n",
    "print('model 2:','intercept: \\n', regr.intercept_)"
   ]
  },
  {
   "cell_type": "code",
   "execution_count": 18,
   "metadata": {},
   "outputs": [
    {
     "data": {
      "text/plain": [
       "[<matplotlib.lines.Line2D at 0x1e66df15548>,\n",
       " <matplotlib.lines.Line2D at 0x1e66df3ef48>]"
      ]
     },
     "execution_count": 18,
     "metadata": {},
     "output_type": "execute_result"
    },
    {
     "data": {
      "image/png": "[encoded data removed]",
      "text/plain": [
       "<Figure size 432x288 with 1 Axes>"
      ]
     },
     "metadata": {
      "needs_background": "light"
     },
     "output_type": "display_data"
    }
   ],
   "source": [
    "fig = plt.figure()\n",
    "plt.xlabel('Quadratic Function (sqft)')\n",
    "plt.ylabel('Price ($)')\n",
    "plt.plot(poly2_data['power_1'],poly2_data['price'],'.',\n",
    "        poly2_data['power_1'], model2.predict(poly2_data[my_features].values.reshape((-1,2))),'-')"
   ]
  },
  {
   "cell_type": "code",
   "execution_count": 19,
   "metadata": {},
   "outputs": [],
   "source": [
    "#The resulting model looks like half a parabola. Try on your own to see what the cubic looks like:\n",
    "poly3_data = polynomial_dataframe(sales['sqft_living'], 3)\n",
    "my_features = poly3_data.columns.values.tolist() # get the name of the features\n",
    "poly3_data['price'] = sales['price'] # add price to the data since it's the target\n",
    "model3 = regr.fit(poly3_data[my_features].values.reshape((-1,3)), poly3_data['price'])"
   ]
  },
  {
   "cell_type": "code",
   "execution_count": 20,
   "metadata": {},
   "outputs": [
    {
     "name": "stdout",
     "output_type": "stream",
     "text": [
      "model 3: Coefficients: \n",
      " [-9.01819864e+01  8.70465089e-02 -3.84055260e-06]\n",
      "model 3: intercept: \n",
      " 336819.7482214633\n"
     ]
    }
   ],
   "source": [
    "#let's take a look at the weights before we plot\n",
    "print('model 3:','Coefficients: \\n', regr.coef_)\n",
    "# The intercept of model1\n",
    "print('model 3:','intercept: \\n', regr.intercept_)"
   ]
  },
  {
   "cell_type": "code",
   "execution_count": 21,
   "metadata": {},
   "outputs": [
    {
     "data": {
      "text/plain": [
       "[<matplotlib.lines.Line2D at 0x1e66dfbbbc8>,\n",
       " <matplotlib.lines.Line2D at 0x1e66dfc1f48>]"
      ]
     },
     "execution_count": 21,
     "metadata": {},
     "output_type": "execute_result"
    },
    {
     "data": {
      "image/png": "[encoded data removed]",
      "text/plain": [
       "<Figure size 432x288 with 1 Axes>"
      ]
     },
     "metadata": {
      "needs_background": "light"
     },
     "output_type": "display_data"
    }
   ],
   "source": [
    "fig = plt.figure()\n",
    "plt.xlabel('Cubic Function (sqft)')\n",
    "plt.ylabel('Price ($)')\n",
    "plt.plot(poly3_data['power_1'],poly3_data['price'],'.',\n",
    "        poly3_data['power_1'], model3.predict(poly3_data[my_features].values.reshape((-1,3))),'-')"
   ]
  },
  {
   "cell_type": "code",
   "execution_count": 22,
   "metadata": {},
   "outputs": [
    {
     "data": {
      "text/html": [
       "<div>\n",
       "<style scoped>\n",
       "    .dataframe tbody tr th:only-of-type {\n",
       "        vertical-align: middle;\n",
       "    }\n",
       "\n",
       "    .dataframe tbody tr th {\n",
       "        vertical-align: top;\n",
       "    }\n",
       "\n",
       "    .dataframe thead th {\n",
       "        text-align: right;\n",
       "    }\n",
       "</style>\n",
       "<table border=\"1\" class=\"dataframe\">\n",
       "  <thead>\n",
       "    <tr style=\"text-align: right;\">\n",
       "      <th></th>\n",
       "      <th>power_1</th>\n",
       "      <th>power_2</th>\n",
       "      <th>power_3</th>\n",
       "      <th>power_4</th>\n",
       "      <th>power_5</th>\n",
       "      <th>power_6</th>\n",
       "      <th>power_7</th>\n",
       "      <th>power_8</th>\n",
       "      <th>power_9</th>\n",
       "      <th>power_10</th>\n",
       "      <th>power_11</th>\n",
       "      <th>power_12</th>\n",
       "      <th>power_13</th>\n",
       "      <th>power_14</th>\n",
       "      <th>power_15</th>\n",
       "      <th>price</th>\n",
       "    </tr>\n",
       "  </thead>\n",
       "  <tbody>\n",
       "    <tr>\n",
       "      <th>19452</th>\n",
       "      <td>290</td>\n",
       "      <td>84100</td>\n",
       "      <td>24389000</td>\n",
       "      <td>7072810000</td>\n",
       "      <td>2051114900000</td>\n",
       "      <td>594823321000000</td>\n",
       "      <td>172498763090000000</td>\n",
       "      <td>-5315590925028654848</td>\n",
       "      <td>8005133933292429824</td>\n",
       "      <td>-2800912632598854656</td>\n",
       "      <td>-607924210447579136</td>\n",
       "      <td>8169419707297566720</td>\n",
       "      <td>7948473681471741952</td>\n",
       "      <td>-785641586888785920</td>\n",
       "      <td>-6475131313233297408</td>\n",
       "      <td>142000.0</td>\n",
       "    </tr>\n",
       "    <tr>\n",
       "      <th>15381</th>\n",
       "      <td>370</td>\n",
       "      <td>136900</td>\n",
       "      <td>50653000</td>\n",
       "      <td>18741610000</td>\n",
       "      <td>6934395700000</td>\n",
       "      <td>2565726409000000</td>\n",
       "      <td>949318771330000000</td>\n",
       "      <td>759807991618519296</td>\n",
       "      <td>4427795793208865280</td>\n",
       "      <td>-3475779072869940224</td>\n",
       "      <td>5233828197790730240</td>\n",
       "      <td>-391694556932730880</td>\n",
       "      <td>2646966524565987328</td>\n",
       "      <td>1700178182809075712</td>\n",
       "      <td>1876629133233258496</td>\n",
       "      <td>276000.0</td>\n",
       "    </tr>\n",
       "  </tbody>\n",
       "</table>\n",
       "</div>"
      ],
      "text/plain": [
       "       power_1  power_2   power_3      power_4        power_5  \\\n",
       "19452      290    84100  24389000   7072810000  2051114900000   \n",
       "15381      370   136900  50653000  18741610000  6934395700000   \n",
       "\n",
       "                power_6             power_7              power_8  \\\n",
       "19452   594823321000000  172498763090000000 -5315590925028654848   \n",
       "15381  2565726409000000  949318771330000000   759807991618519296   \n",
       "\n",
       "                   power_9             power_10             power_11  \\\n",
       "19452  8005133933292429824 -2800912632598854656  -607924210447579136   \n",
       "15381  4427795793208865280 -3475779072869940224  5233828197790730240   \n",
       "\n",
       "                  power_12             power_13             power_14  \\\n",
       "19452  8169419707297566720  7948473681471741952  -785641586888785920   \n",
       "15381  -391694556932730880  2646966524565987328  1700178182809075712   \n",
       "\n",
       "                  power_15     price  \n",
       "19452 -6475131313233297408  142000.0  \n",
       "15381  1876629133233258496  276000.0  "
      ]
     },
     "execution_count": 22,
     "metadata": {},
     "output_type": "execute_result"
    }
   ],
   "source": [
    "#Now try a 15th degree polynomial:\n",
    "poly15_data = polynomial_dataframe(sales['sqft_living'], 15)\n",
    "my_features = poly15_data.columns.values.tolist() # get the name of the features\n",
    "poly15_data['price'] = sales['price'] # add price to the data since it's the target\n",
    "model15 = regr.fit(poly15_data[my_features].values.reshape((-1,15)), poly15_data['price'])\n",
    "poly15_data[:2]"
   ]
  },
  {
   "cell_type": "code",
   "execution_count": 23,
   "metadata": {},
   "outputs": [
    {
     "data": {
      "text/plain": [
       "[<matplotlib.lines.Line2D at 0x1e66e038c08>,\n",
       " <matplotlib.lines.Line2D at 0x1e66f011d48>]"
      ]
     },
     "execution_count": 23,
     "metadata": {},
     "output_type": "execute_result"
    },
    {
     "data": {
      "image/png": "[encoded data removed]",
      "text/plain": [
       "<Figure size 432x288 with 1 Axes>"
      ]
     },
     "metadata": {
      "needs_background": "light"
     },
     "output_type": "display_data"
    }
   ],
   "source": [
    "fig = plt.figure()\n",
    "plt.xlabel('15th Polynomial Function (sqft)')\n",
    "plt.ylabel('Price ($)')\n",
    "plt.plot(poly15_data['power_1'],poly15_data['price'],'.',\n",
    "        poly15_data['power_1'], model15.predict(poly15_data[my_features].values.reshape((-1,15))),'-')"
   ]
  },
  {
   "cell_type": "code",
   "execution_count": 24,
   "metadata": {},
   "outputs": [
    {
     "data": {
      "text/html": [
       "<div>\n",
       "<style scoped>\n",
       "    .dataframe tbody tr th:only-of-type {\n",
       "        vertical-align: middle;\n",
       "    }\n",
       "\n",
       "    .dataframe tbody tr th {\n",
       "        vertical-align: top;\n",
       "    }\n",
       "\n",
       "    .dataframe thead th {\n",
       "        text-align: right;\n",
       "    }\n",
       "</style>\n",
       "<table border=\"1\" class=\"dataframe\">\n",
       "  <thead>\n",
       "    <tr style=\"text-align: right;\">\n",
       "      <th></th>\n",
       "      <th>id</th>\n",
       "      <th>date</th>\n",
       "      <th>price</th>\n",
       "      <th>bedrooms</th>\n",
       "      <th>bathrooms</th>\n",
       "      <th>sqft_living</th>\n",
       "      <th>sqft_lot</th>\n",
       "      <th>floors</th>\n",
       "      <th>waterfront</th>\n",
       "      <th>view</th>\n",
       "      <th>...</th>\n",
       "      <th>grade</th>\n",
       "      <th>sqft_above</th>\n",
       "      <th>sqft_basement</th>\n",
       "      <th>yr_built</th>\n",
       "      <th>yr_renovated</th>\n",
       "      <th>zipcode</th>\n",
       "      <th>lat</th>\n",
       "      <th>long</th>\n",
       "      <th>sqft_living15</th>\n",
       "      <th>sqft_lot15</th>\n",
       "    </tr>\n",
       "  </thead>\n",
       "  <tbody>\n",
       "    <tr>\n",
       "      <th>0</th>\n",
       "      <td>3793500160</td>\n",
       "      <td>20150312T000000</td>\n",
       "      <td>323000.0</td>\n",
       "      <td>3</td>\n",
       "      <td>2.5</td>\n",
       "      <td>1890</td>\n",
       "      <td>6560</td>\n",
       "      <td>2.0</td>\n",
       "      <td>0</td>\n",
       "      <td>0</td>\n",
       "      <td>...</td>\n",
       "      <td>7</td>\n",
       "      <td>1890</td>\n",
       "      <td>0</td>\n",
       "      <td>2003</td>\n",
       "      <td>0</td>\n",
       "      <td>98038</td>\n",
       "      <td>47.3684</td>\n",
       "      <td>-122.031</td>\n",
       "      <td>2390</td>\n",
       "      <td>7570</td>\n",
       "    </tr>\n",
       "    <tr>\n",
       "      <th>1</th>\n",
       "      <td>9212900260</td>\n",
       "      <td>20140527T000000</td>\n",
       "      <td>468000.0</td>\n",
       "      <td>2</td>\n",
       "      <td>1.0</td>\n",
       "      <td>1160</td>\n",
       "      <td>6000</td>\n",
       "      <td>1.0</td>\n",
       "      <td>0</td>\n",
       "      <td>0</td>\n",
       "      <td>...</td>\n",
       "      <td>7</td>\n",
       "      <td>860</td>\n",
       "      <td>300</td>\n",
       "      <td>1942</td>\n",
       "      <td>0</td>\n",
       "      <td>98115</td>\n",
       "      <td>47.6900</td>\n",
       "      <td>-122.292</td>\n",
       "      <td>1330</td>\n",
       "      <td>6000</td>\n",
       "    </tr>\n",
       "  </tbody>\n",
       "</table>\n",
       "<p>2 rows × 21 columns</p>\n",
       "</div>"
      ],
      "text/plain": [
       "           id             date     price  bedrooms  bathrooms  sqft_living  \\\n",
       "0  3793500160  20150312T000000  323000.0         3        2.5         1890   \n",
       "1  9212900260  20140527T000000  468000.0         2        1.0         1160   \n",
       "\n",
       "   sqft_lot  floors  waterfront  view  ...  grade  sqft_above  sqft_basement  \\\n",
       "0      6560     2.0           0     0  ...      7        1890              0   \n",
       "1      6000     1.0           0     0  ...      7         860            300   \n",
       "\n",
       "   yr_built  yr_renovated  zipcode      lat     long  sqft_living15  \\\n",
       "0      2003             0    98038  47.3684 -122.031           2390   \n",
       "1      1942             0    98115  47.6900 -122.292           1330   \n",
       "\n",
       "   sqft_lot15  \n",
       "0        7570  \n",
       "1        6000  \n",
       "\n",
       "[2 rows x 21 columns]"
      ]
     },
     "execution_count": 24,
     "metadata": {},
     "output_type": "execute_result"
    }
   ],
   "source": [
    "#Changing the data and re-learning\n",
    "#We're going to split the sales data into four subsets of roughly equal size. Then you will estimate a 15th degree polynomial model on all four subsets of the data. Print the coefficients (you should use .print_rows(num_rows = 16) to view all of them) and plot the resulting fit (as we did above). \n",
    "#The quiz will ask you some questions about these results.\n",
    "#First, read the four sets of data into data frame\n",
    "set1_sales = pd.read_csv('wk3_kc_house_set_1_data.csv')\n",
    "set2_sales = pd.read_csv('wk3_kc_house_set_2_data.csv')\n",
    "set3_sales = pd.read_csv('wk3_kc_house_set_3_data.csv')\n",
    "set4_sales = pd.read_csv('wk3_kc_house_set_4_data.csv')\n",
    "set1_sales[:2]"
   ]
  },
  {
   "cell_type": "code",
   "execution_count": 25,
   "metadata": {},
   "outputs": [],
   "source": [
    "#Fit model 15 for data set1\n",
    "set1_poly15_data = polynomial_dataframe(set1_sales['sqft_living'], 15)\n",
    "my_features = set1_poly15_data.columns.values.tolist() # get the name of the features\n",
    "set1_poly15_data['price'] = set1_sales['price'] # add price to the data since it's the target\n",
    "set1_model15 = regr.fit(set1_poly15_data[my_features].values.reshape((-1,15)), set1_poly15_data['price'])"
   ]
  },
  {
   "cell_type": "code",
   "execution_count": 26,
   "metadata": {},
   "outputs": [
    {
     "name": "stdout",
     "output_type": "stream",
     "text": [
      "model 15 of set 1: Coefficients: \n",
      " [ 2.38253721e-05  4.63936517e-02  3.31225600e-06 -3.44530658e-10\n",
      " -1.19454423e-14  1.03088640e-16  3.59569162e-18  7.12709297e-16\n",
      " -3.25035141e-16 -2.16627705e-17 -8.36036607e-16 -8.42409033e-17\n",
      "  2.00904038e-17 -6.09981945e-17  8.05023433e-16]\n",
      "model 15 of set 1: intercept: \n",
      " 272444.98442561826\n"
     ]
    }
   ],
   "source": [
    "#let's take a look at the weights of model 15 for data set1\n",
    "print('model 15 of set 1:','Coefficients: \\n', regr.coef_)\n",
    "# The intercept of model1\n",
    "print('model 15 of set 1:','intercept: \\n', regr.intercept_)"
   ]
  },
  {
   "cell_type": "code",
   "execution_count": 27,
   "metadata": {},
   "outputs": [
    {
     "data": {
      "text/plain": [
       "[<matplotlib.lines.Line2D at 0x1e66f08ef88>,\n",
       " <matplotlib.lines.Line2D at 0x1e66f0a5488>]"
      ]
     },
     "execution_count": 27,
     "metadata": {},
     "output_type": "execute_result"
    },
    {
     "data": {
      "image/png": "[encoded data removed]",
      "text/plain": [
       "<Figure size 432x288 with 1 Axes>"
      ]
     },
     "metadata": {
      "needs_background": "light"
     },
     "output_type": "display_data"
    }
   ],
   "source": [
    "#Plot model 15 of data set 1\n",
    "fig = plt.figure()\n",
    "plt.xlabel('15th Polynomial Function (sqft) of data set 1')\n",
    "plt.ylabel('Price ($)')\n",
    "plt.plot(set1_poly15_data['power_1'],set1_poly15_data['price'],'.',\n",
    "        set1_poly15_data['power_1'], set1_model15.predict(set1_poly15_data[my_features].values.reshape((-1,15))),'-')"
   ]
  },
  {
   "cell_type": "code",
   "execution_count": 28,
   "metadata": {},
   "outputs": [],
   "source": [
    "#Fit model 15 for data set2\n",
    "set2_poly15_data = polynomial_dataframe(set2_sales['sqft_living'], 15)\n",
    "my_features = set2_poly15_data.columns.values.tolist() # get the name of the features\n",
    "set2_poly15_data['price'] = set2_sales['price'] # add price to the data since it's the target\n",
    "set2_model15 = regr.fit(set2_poly15_data[my_features].values.reshape((-1,15)), set2_poly15_data['price'])"
   ]
  },
  {
   "cell_type": "code",
   "execution_count": 29,
   "metadata": {},
   "outputs": [
    {
     "name": "stdout",
     "output_type": "stream",
     "text": [
      "model 15 of set 2: Coefficients: \n",
      " [ 2.67155511e-05  6.40556752e-02 -3.84618250e-06  2.29090041e-10\n",
      " -8.15742504e-15 -1.32172648e-16 -7.85784767e-16 -3.57190167e-16\n",
      "  4.43828580e-16 -9.60603813e-16  4.91905616e-16  4.67052282e-16\n",
      " -1.48445015e-16 -8.99147526e-16  4.77091111e-16]\n",
      "model 15 of set 2: intercept: \n",
      " 254408.64912786963\n"
     ]
    }
   ],
   "source": [
    "#let's take a look at the weights of model 15 for data set2\n",
    "print('model 15 of set 2:','Coefficients: \\n', regr.coef_)\n",
    "# The intercept of model1\n",
    "print('model 15 of set 2:','intercept: \\n', regr.intercept_)"
   ]
  },
  {
   "cell_type": "code",
   "execution_count": 30,
   "metadata": {},
   "outputs": [
    {
     "data": {
      "text/plain": [
       "[<matplotlib.lines.Line2D at 0x1e66f07cb08>,\n",
       " <matplotlib.lines.Line2D at 0x1e66f117bc8>]"
      ]
     },
     "execution_count": 30,
     "metadata": {},
     "output_type": "execute_result"
    },
    {
     "data": {
      "image/png": "[encoded data removed]",
      "text/plain": [
       "<Figure size 432x288 with 1 Axes>"
      ]
     },
     "metadata": {
      "needs_background": "light"
     },
     "output_type": "display_data"
    }
   ],
   "source": [
    "#Plot model 15 of data set 2\n",
    "fig = plt.figure()\n",
    "plt.xlabel('15th Polynomial Function (sqft) of data set 2')\n",
    "plt.ylabel('Price ($)')\n",
    "plt.plot(set2_poly15_data['power_1'],set2_poly15_data['price'],'.',\n",
    "        set2_poly15_data['power_1'], set2_model15.predict(set2_poly15_data[my_features].values.reshape((-1,15))),'-')"
   ]
  },
  {
   "cell_type": "code",
   "execution_count": 31,
   "metadata": {},
   "outputs": [
    {
     "name": "stdout",
     "output_type": "stream",
     "text": [
      "model 15 of set 3: Coefficients: \n",
      " [ 2.60388711e-05  5.68788383e-02 -1.39246504e-06  1.14121008e-10\n",
      " -1.25689168e-14 -6.12614906e-16 -1.26607380e-16  3.14000306e-16\n",
      " -9.59549622e-16 -3.41182907e-17  8.90214783e-16  1.07438302e-15\n",
      "  4.58072606e-16 -1.67669843e-16 -4.37777194e-16]\n",
      "model 15 of set 3: intercept: \n",
      " 265708.82266769547\n"
     ]
    },
    {
     "data": {
      "text/plain": [
       "[<matplotlib.lines.Line2D at 0x1e66f16f848>,\n",
       " <matplotlib.lines.Line2D at 0x1e66f169d88>]"
      ]
     },
     "execution_count": 31,
     "metadata": {},
     "output_type": "execute_result"
    },
    {
     "data": {
      "image/png": "[encoded data removed]",
      "text/plain": [
       "<Figure size 432x288 with 1 Axes>"
      ]
     },
     "metadata": {
      "needs_background": "light"
     },
     "output_type": "display_data"
    }
   ],
   "source": [
    "#Fit model 15 for data set3\n",
    "set3_poly15_data = polynomial_dataframe(set3_sales['sqft_living'], 15)\n",
    "my_features = set3_poly15_data.columns.values.tolist() # get the name of the features\n",
    "set3_poly15_data['price'] = set3_sales['price'] # add price to the data since it's the target\n",
    "set3_model15 = regr.fit(set3_poly15_data[my_features].values.reshape((-1,15)), set3_poly15_data['price'])\n",
    "#let's take a look at the weights of model 15 for data set3\n",
    "print('model 15 of set 3:','Coefficients: \\n', regr.coef_)\n",
    "# The intercept of model1\n",
    "print('model 15 of set 3:','intercept: \\n', regr.intercept_)\n",
    "#Plot model 15 of data set 2\n",
    "fig = plt.figure()\n",
    "plt.xlabel('15th Polynomial Function (sqft) of data set 3')\n",
    "plt.ylabel('Price ($)')\n",
    "plt.plot(set3_poly15_data['power_1'],set3_poly15_data['price'],'.',\n",
    "        set3_poly15_data['power_1'], set3_model15.predict(set3_poly15_data[my_features].values.reshape((-1,15))),'-')"
   ]
  },
  {
   "cell_type": "code",
   "execution_count": 32,
   "metadata": {},
   "outputs": [
    {
     "name": "stdout",
     "output_type": "stream",
     "text": [
      "model 15 of set 4: Coefficients: \n",
      " [ 1.85050353e-05  4.54228265e-02  4.01958599e-06 -4.77962267e-10\n",
      " -3.01892270e-14  2.69712514e-16 -9.48637450e-16  4.55178423e-16\n",
      " -4.63371823e-17  3.82648136e-16  3.01228299e-16  1.34814200e-15\n",
      "  1.62287351e-15 -5.51656067e-16 -2.48217930e-16]\n",
      "model 15 of set 4: intercept: \n",
      " 272463.4254171938\n"
     ]
    },
    {
     "data": {
      "text/plain": [
       "[<matplotlib.lines.Line2D at 0x1e66f1fa5c8>,\n",
       " <matplotlib.lines.Line2D at 0x1e66f1ff6c8>]"
      ]
     },
     "execution_count": 32,
     "metadata": {},
     "output_type": "execute_result"
    },
    {
     "data": {
      "image/png": "[encoded data removed]",
      "text/plain": [
       "<Figure size 432x288 with 1 Axes>"
      ]
     },
     "metadata": {
      "needs_background": "light"
     },
     "output_type": "display_data"
    }
   ],
   "source": [
    "#Fit model 15 for data set4\n",
    "set4_poly15_data = polynomial_dataframe(set4_sales['sqft_living'], 15)\n",
    "my_features = set4_poly15_data.columns.values.tolist() # get the name of the features\n",
    "set4_poly15_data['price'] = set4_sales['price'] # add price to the data since it's the target\n",
    "set4_model15 = regr.fit(set4_poly15_data[my_features].values.reshape((-1,15)), set4_poly15_data['price'])\n",
    "#let's take a look at the weights of model 15 for data set3\n",
    "print('model 15 of set 4:','Coefficients: \\n', regr.coef_)\n",
    "# The intercept of model1\n",
    "print('model 15 of set 4:','intercept: \\n', regr.intercept_)\n",
    "#Plot model 15 of data set 4\n",
    "fig = plt.figure()\n",
    "plt.xlabel('15th Polynomial Function (sqft) of data set 4')\n",
    "plt.ylabel('Price ($)')\n",
    "plt.plot(set4_poly15_data['power_1'],set4_poly15_data['price'],'.',\n",
    "        set4_poly15_data['power_1'], set4_model15.predict(set4_poly15_data[my_features].values.reshape((-1,15))),'-')"
   ]
  },
  {
   "cell_type": "code",
   "execution_count": 33,
   "metadata": {},
   "outputs": [
    {
     "name": "stdout",
     "output_type": "stream",
     "text": [
      "sales data: 21613\n",
      "testing data: 2217\n",
      "training data: 9761\n",
      "validation data: 9635\n"
     ]
    }
   ],
   "source": [
    "#Selecting a Polynomial Degree\n",
    "#Whenever we have a \"magic\" parameter like the degree of the polynomial there is one well-known way to\n",
    "#select these parameters: validation set. (We will explore another approach in week 4).\n",
    "test_sales = pd.read_csv('wk3_kc_house_test_data.csv')\n",
    "train_sales = pd.read_csv('wk3_kc_house_train_data.csv')\n",
    "valid_sales = pd.read_csv('wk3_kc_house_valid_data.csv')\n",
    "print ('sales data: ' + str(len(sales)))\n",
    "print ('testing data: ' + str(len(test_sales)))\n",
    "print ('training data: '+ str(len(train_sales)))\n",
    "print ('validation data: ' + str(len(valid_sales)))"
   ]
  },
  {
   "cell_type": "code",
   "execution_count": 34,
   "metadata": {},
   "outputs": [],
   "source": [
    "#A functin to calculate RSS\n",
    "def get_residual_sum_of_squares(model, data, outcome):\n",
    "    # First get the predictions\n",
    "    predictions = model.predict(data)\n",
    "\n",
    "    # Then compute the residuals/errors\n",
    "    residuals = predictions - outcome\n",
    "\n",
    "    # Then square and add them up\n",
    "    \n",
    "    RSS = (residuals * residuals).sum()\n",
    "\n",
    "    return(RSS)    "
   ]
  },
  {
   "cell_type": "code",
   "execution_count": 35,
   "metadata": {},
   "outputs": [
    {
     "data": {
      "text/plain": [
       "\"For degree in [1, 2, 3, 4, 5, 6, 7, 8, 9, 10, 11, 12, 13, 14, 15] (to get this in python type range(1, 15+1))\\nBuild an SFrame of polynomial data of train_data['sqft_living'] at the current degree\\nhint: my_features = poly_data.column_names() gives you a list e.g. ['power_1', 'power_2', 'power_3'] which you might find useful for graphlab.linear_regression.create( features = my_features)\\nAdd train_data['price'] to the polynomial SFrame\\nLearn a polynomial regression model to sqft vs price with that degree on TRAIN data\\nCompute the RSS on VALIDATION data (here you will want to use .predict()) for that degree and you will need to make a polynmial SFrame using validation data.\\nReport which degree had the lowest RSS on validation data (remember python indexes from 0)\\n(Note you can turn off the print out of linear_regression.create() with verbose = False)\""
      ]
     },
     "execution_count": 35,
     "metadata": {},
     "output_type": "execute_result"
    }
   ],
   "source": [
    "'''For degree in [1, 2, 3, 4, 5, 6, 7, 8, 9, 10, 11, 12, 13, 14, 15] (to get this in python type range(1, 15+1))\n",
    "Build an SFrame of polynomial data of train_data['sqft_living'] at the current degree\n",
    "hint: my_features = poly_data.column_names() gives you a list e.g. ['power_1', 'power_2', 'power_3'] which you might find useful for graphlab.linear_regression.create( features = my_features)\n",
    "Add train_data['price'] to the polynomial SFrame\n",
    "Learn a polynomial regression model to sqft vs price with that degree on TRAIN data\n",
    "Compute the RSS on VALIDATION data (here you will want to use .predict()) for that degree and you will need to make a polynmial SFrame using validation data.\n",
    "Report which degree had the lowest RSS on validation data (remember python indexes from 0)\n",
    "(Note you can turn off the print out of linear_regression.create() with verbose = False)'''"
   ]
  },
  {
   "cell_type": "code",
   "execution_count": 36,
   "metadata": {},
   "outputs": [
    {
     "name": "stdout",
     "output_type": "stream",
     "text": [
      "rss of each model on validation data: {1: 629097886299585.8, 2: 623955062706518.0, 3: 625820280251531.0, 4: 629987341468500.4, 5: 623373644830481.8, 6: 623248623641342.0, 7: 623170277145830.6, 8: 623371883707585.0, 9: 623300719513891.0, 10: 623430182085440.4, 11: 623552071862743.2, 12: 623340349900493.2, 13: 623264348723454.8, 14: 623235829390757.4, 15: 623312318244071.2}\n",
      "rss of each model on test data: {1: 142347931358638.7, 2: 135542039274080.42, 3: 135585996079050.44, 4: 135382681503682.48, 5: 136772700176818.64, 6: 136766797835253.6, 7: 136758855060200.06, 8: 136784771585941.38, 9: 136768695901912.55, 10: 136764725110279.02, 11: 136767006244991.0, 12: 136740283841371.08, 13: 136820083291517.5, 14: 136986402985046.5, 15: 137014883701729.28}\n"
     ]
    }
   ],
   "source": [
    "rssDic = {}\n",
    "rssDictest = {}\n",
    "modelDic = {}\n",
    "for i in range(1,15+1):\n",
    "    poly_train_data  = polynomial_dataframe(train_sales['sqft_living'], i)\n",
    "    #print(poly_train_data)\n",
    "    poly_features = poly_train_data.columns.values.tolist() # get the name of the features\n",
    "    #print(poly_features)\n",
    "    #poly_train_data['price'] = train_sales['price']\n",
    "    modelDic[i] = regr.fit(poly_train_data[poly_features].values.reshape((-1,i)), train_sales['price'])\n",
    "    \n",
    "    poly_valid_data = polynomial_dataframe(valid_sales['sqft_living'], i)\n",
    "    #print(poly_valid_data)\n",
    "    #poly_valid_data['price'] = valid_sales['price']\n",
    "    \n",
    "    poly_test_data = polynomial_dataframe(test_sales['sqft_living'], i)\n",
    "    predictions = modelDic[i].predict(poly_valid_data[poly_features])\n",
    "    #print(predictions)\n",
    "    rssDic[i] = get_residual_sum_of_squares(modelDic[i], poly_valid_data, valid_sales['price'])\n",
    "    rssDictest[i] = get_residual_sum_of_squares(modelDic[i], poly_test_data, test_sales['price'])\n",
    "    #print(rssDic[i])\n",
    "    #print(poly_valid_data[poly_features])\n",
    "    #print('For model', i, 'Residueal Sum of Square is', rssDic[i])\n",
    "print('rss of each model on validation data:',rssDic)\n",
    "print('rss of each model on test data:',rssDictest)\n"
   ]
  },
  {
   "cell_type": "code",
   "execution_count": 37,
   "metadata": {},
   "outputs": [
    {
     "data": {
      "text/plain": [
       "['power_1', 'power_2', 'power_3', 'power_4', 'power_5', 'power_6', 'power_7']"
      ]
     },
     "execution_count": 37,
     "metadata": {},
     "output_type": "execute_result"
    }
   ],
   "source": [
    "poly_test_data_7  = polynomial_dataframe(test_sales['sqft_living'], 7)\n",
    "poly_features_7 = poly_test_data_7.columns.values.tolist()\n",
    "poly_features_7"
   ]
  },
  {
   "cell_type": "code",
   "execution_count": 38,
   "metadata": {},
   "outputs": [
    {
     "name": "stdout",
     "output_type": "stream",
     "text": [
      "model 7 of training data: Coefficients: \n",
      " [ 2.22986075e-05  5.29771551e-02  4.89667451e-07 -4.73451750e-11\n",
      " -2.46051321e-14 -2.66385267e-16 -1.44969893e-16]\n",
      "model 7 of training data: intercept: \n",
      " 265611.4374598818\n"
     ]
    }
   ],
   "source": [
    "#Fit model 7 for training data manually\n",
    "poly_train_data  = polynomial_dataframe(train_sales['sqft_living'], 7)\n",
    "poly_features = poly_train_data.columns.values.tolist()\n",
    "modelDic7 = regr.fit(poly_train_data[poly_features].values.reshape((-1,7)), train_sales['price'])\n",
    "print('model 7 of training data:','Coefficients: \\n', regr.coef_)\n",
    "# The intercept of model1\n",
    "print('model 7 of training data:','intercept: \\n', regr.intercept_)\n",
    "prediction = modelDic7.predict(poly_test_data_7[poly_features_7])"
   ]
  },
  {
   "cell_type": "code",
   "execution_count": 39,
   "metadata": {},
   "outputs": [
    {
     "name": "stdout",
     "output_type": "stream",
     "text": [
      "residual sum of squared error of model 7 on test data 136758855060200.06\n"
     ]
    }
   ],
   "source": [
    "#Quiz question 4 - calculating RSS of test data based on model 7 \n",
    "from sklearn.metrics import mean_squared_error\n",
    "mse = mean_squared_error(test_sales['price'], prediction)\n",
    "print('residual sum of squared error of model 7 on test data', mse*len(test_sales['price']))"
   ]
  },
  {
   "cell_type": "code",
   "execution_count": 40,
   "metadata": {},
   "outputs": [
    {
     "data": {
      "text/plain": [
       "['power_1', 'power_2', 'power_3', 'power_4', 'power_5', 'power_6']"
      ]
     },
     "execution_count": 40,
     "metadata": {},
     "output_type": "execute_result"
    }
   ],
   "source": [
    "poly_valid_data_6  = polynomial_dataframe(valid_sales['sqft_living'], 6)\n",
    "poly_features_6 = poly_valid_data_6.columns.values.tolist()\n",
    "poly_features_6"
   ]
  },
  {
   "cell_type": "code",
   "execution_count": 41,
   "metadata": {},
   "outputs": [
    {
     "name": "stdout",
     "output_type": "stream",
     "text": [
      "model 6 of training data: Coefficients: \n",
      " [ 2.23178731e-05  5.30034261e-02  4.79345275e-07 -4.66154417e-11\n",
      " -2.46209999e-14 -2.72637592e-16]\n",
      "model 6 of training data: intercept: \n",
      " 265680.16580509953\n",
      "residual sum of squared error of model 6 on validation data 623248623641342.0\n"
     ]
    }
   ],
   "source": [
    "#Fit model 6 for training data and calculate RSS based on validation data manually\n",
    "poly_train_data  = polynomial_dataframe(train_sales['sqft_living'], 6)\n",
    "poly_features = poly_train_data.columns.values.tolist()\n",
    "modelDic6 = regr.fit(poly_train_data[poly_features].values.reshape((-1,6)), train_sales['price'])\n",
    "print('model 6 of training data:','Coefficients: \\n', regr.coef_)\n",
    "# The intercept of model7\n",
    "print('model 6 of training data:','intercept: \\n', regr.intercept_)\n",
    "prediction = modelDic6.predict(poly_valid_data_6[poly_features_6])\n",
    "#Calculate RSS of validation data based on model 6\n",
    "mse = mean_squared_error(valid_sales['price'], prediction)\n",
    "print('residual sum of squared error of model 6 on validation data', mse*len(valid_sales['price']))"
   ]
  },
  {
   "cell_type": "code",
   "execution_count": 42,
   "metadata": {},
   "outputs": [
    {
     "data": {
      "text/plain": [
       "['power_1', 'power_2', 'power_3', 'power_4', 'power_5', 'power_6', 'power_7']"
      ]
     },
     "execution_count": 42,
     "metadata": {},
     "output_type": "execute_result"
    }
   ],
   "source": [
    "poly_valid_data_7  = polynomial_dataframe(valid_sales['sqft_living'], 7)\n",
    "poly_features_7 = poly_valid_data_7.columns.values.tolist()\n",
    "poly_features_7"
   ]
  },
  {
   "cell_type": "code",
   "execution_count": 43,
   "metadata": {},
   "outputs": [
    {
     "name": "stdout",
     "output_type": "stream",
     "text": [
      "model 7 of training data: Coefficients: \n",
      " [ 2.22986075e-05  5.29771551e-02  4.89667451e-07 -4.73451750e-11\n",
      " -2.46051321e-14 -2.66385267e-16 -1.44969893e-16]\n",
      "model 7 of training data: intercept: \n",
      " 265611.4374598818\n",
      "residual sum of squared error of model 7 on validation data 623170277145830.6\n"
     ]
    }
   ],
   "source": [
    "#Fit model 7 for training data and calculate RSS based on validation data manually\n",
    "poly_train_data  = polynomial_dataframe(train_sales['sqft_living'], 7)\n",
    "poly_features = poly_train_data.columns.values.tolist()\n",
    "modelDic7 = regr.fit(poly_train_data[poly_features].values.reshape((-1,7)), train_sales['price'])\n",
    "print('model 7 of training data:','Coefficients: \\n', regr.coef_)\n",
    "# The intercept of model 7\n",
    "print('model 7 of training data:','intercept: \\n', regr.intercept_)\n",
    "prediction = modelDic7.predict(poly_valid_data_7[poly_features_7])\n",
    "#Calculate RSS of validation data based on model 7\n",
    "mse = mean_squared_error(valid_sales['price'], prediction)\n",
    "print('residual sum of squared error of model 7 on validation data', mse*len(valid_sales['price']))"
   ]
  },
  {
   "cell_type": "code",
   "execution_count": 44,
   "metadata": {
    "scrolled": true
   },
   "outputs": [
    {
     "name": "stdout",
     "output_type": "stream",
     "text": [
      "{1: LinearRegression(copy_X=True, fit_intercept=True, n_jobs=None, normalize=False), 2: LinearRegression(copy_X=True, fit_intercept=True, n_jobs=None, normalize=False), 3: LinearRegression(copy_X=True, fit_intercept=True, n_jobs=None, normalize=False), 4: LinearRegression(copy_X=True, fit_intercept=True, n_jobs=None, normalize=False), 5: LinearRegression(copy_X=True, fit_intercept=True, n_jobs=None, normalize=False), 6: LinearRegression(copy_X=True, fit_intercept=True, n_jobs=None, normalize=False), 7: LinearRegression(copy_X=True, fit_intercept=True, n_jobs=None, normalize=False), 8: LinearRegression(copy_X=True, fit_intercept=True, n_jobs=None, normalize=False), 9: LinearRegression(copy_X=True, fit_intercept=True, n_jobs=None, normalize=False), 10: LinearRegression(copy_X=True, fit_intercept=True, n_jobs=None, normalize=False), 11: LinearRegression(copy_X=True, fit_intercept=True, n_jobs=None, normalize=False), 12: LinearRegression(copy_X=True, fit_intercept=True, n_jobs=None, normalize=False), 13: LinearRegression(copy_X=True, fit_intercept=True, n_jobs=None, normalize=False), 14: LinearRegression(copy_X=True, fit_intercept=True, n_jobs=None, normalize=False), 15: LinearRegression(copy_X=True, fit_intercept=True, n_jobs=None, normalize=False)}\n"
     ]
    }
   ],
   "source": [
    "print(modelDic)"
   ]
  },
  {
   "cell_type": "code",
   "execution_count": 45,
   "metadata": {},
   "outputs": [
    {
     "name": "stdout",
     "output_type": "stream",
     "text": [
      "least RSS: 623170277145830.6\n"
     ]
    }
   ],
   "source": [
    "#Calculate the least RSS\n",
    "minRSS =min(rssDic.values())\n",
    "print('least RSS:', minRSS)"
   ]
  },
  {
   "cell_type": "code",
   "execution_count": 46,
   "metadata": {},
   "outputs": [
    {
     "name": "stdout",
     "output_type": "stream",
     "text": [
      "model degree with least RSS: 7\n"
     ]
    }
   ],
   "source": [
    "# Quiz question 3 - which model has the least RSS. Note that I'm using sckit-learn for regression modeling, which may impact the calculation\n",
    "print('model degree with least RSS:', min(rssDic, key=rssDic.get))"
   ]
  }
 ],
 "metadata": {
  "kernelspec": {
   "display_name": "Python 3",
   "language": "python",
   "name": "python3"
  },
  "language_info": {
   "codemirror_mode": {
    "name": "ipython",
    "version": 3
   },
   "file_extension": ".py",
   "mimetype": "text/x-python",
   "name": "python",
   "nbconvert_exporter": "python",
   "pygments_lexer": "ipython3",
   "version": "3.7.6"
  }
 },
 "nbformat": 4,
 "nbformat_minor": 2
}
