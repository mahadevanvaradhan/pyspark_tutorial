{
 "cells": [
  {
   "cell_type": "code",
   "execution_count": 1,
   "id": "8dcdaf96",
   "metadata": {},
   "outputs": [],
   "source": [
    "import pandas as pd"
   ]
  },
  {
   "cell_type": "code",
   "execution_count": 30,
   "id": "9c6ceada",
   "metadata": {},
   "outputs": [],
   "source": [
    "my_list = [1,2,3,4,3,3,7,8,9,2,2,2]"
   ]
  },
  {
   "cell_type": "code",
   "execution_count": 31,
   "id": "d4befe76",
   "metadata": {},
   "outputs": [],
   "source": [
    "my_df = pd.Series(my_list)"
   ]
  },
  {
   "cell_type": "code",
   "execution_count": 32,
   "id": "81d47160",
   "metadata": {},
   "outputs": [
    {
     "data": {
      "text/plain": [
       "count    12.000000\n",
       "mean      3.833333\n",
       "std       2.657180\n",
       "min       1.000000\n",
       "25%       2.000000\n",
       "50%       3.000000\n",
       "75%       4.750000\n",
       "max       9.000000\n",
       "dtype: float64"
      ]
     },
     "execution_count": 32,
     "metadata": {},
     "output_type": "execute_result"
    }
   ],
   "source": [
    "my_df.describe()"
   ]
  },
  {
   "cell_type": "code",
   "execution_count": 33,
   "id": "40ca0889",
   "metadata": {},
   "outputs": [],
   "source": [
    "from scipy import stats\n"
   ]
  },
  {
   "cell_type": "code",
   "execution_count": 34,
   "id": "6a2313fb",
   "metadata": {},
   "outputs": [
    {
     "data": {
      "text/plain": [
       "DescribeResult(nobs=12, minmax=(1, 9), mean=3.8333333333333335, variance=7.060606060606061, skewness=0.9762158057438676, kurtosis=-0.5617712612131376)"
      ]
     },
     "execution_count": 34,
     "metadata": {},
     "output_type": "execute_result"
    }
   ],
   "source": [
    "stats.describe(my_df)"
   ]
  },
  {
   "cell_type": "code",
   "execution_count": 35,
   "id": "db5d6958",
   "metadata": {},
   "outputs": [],
   "source": [
    "import statistics"
   ]
  },
  {
   "cell_type": "code",
   "execution_count": 36,
   "id": "190a2286",
   "metadata": {},
   "outputs": [
    {
     "data": {
      "text/plain": [
       "3.8333333333333335"
      ]
     },
     "execution_count": 36,
     "metadata": {},
     "output_type": "execute_result"
    }
   ],
   "source": [
    "statistics.mean(my_df)"
   ]
  },
  {
   "cell_type": "code",
   "execution_count": 37,
   "id": "857c0bda",
   "metadata": {},
   "outputs": [
    {
     "data": {
      "text/plain": [
       "3.0"
      ]
     },
     "execution_count": 37,
     "metadata": {},
     "output_type": "execute_result"
    }
   ],
   "source": [
    "statistics.median(my_df)"
   ]
  },
  {
   "cell_type": "code",
   "execution_count": 38,
   "id": "2ed87165",
   "metadata": {},
   "outputs": [
    {
     "data": {
      "text/plain": [
       "2"
      ]
     },
     "execution_count": 38,
     "metadata": {},
     "output_type": "execute_result"
    }
   ],
   "source": [
    "statistics.mode(my_df)"
   ]
  },
  {
   "cell_type": "code",
   "execution_count": null,
   "id": "9d23428d",
   "metadata": {},
   "outputs": [],
   "source": []
  },
  {
   "cell_type": "code",
   "execution_count": null,
   "id": "3aa66ac5",
   "metadata": {},
   "outputs": [],
   "source": []
  }
 ],
 "metadata": {
  "kernelspec": {
   "display_name": "Python 3 (ipykernel)",
   "language": "python",
   "name": "python3"
  },
  "language_info": {
   "codemirror_mode": {
    "name": "ipython",
    "version": 3
   },
   "file_extension": ".py",
   "mimetype": "text/x-python",
   "name": "python",
   "nbconvert_exporter": "python",
   "pygments_lexer": "ipython3",
   "version": "3.10.5"
  }
 },
 "nbformat": 4,
 "nbformat_minor": 5
}
